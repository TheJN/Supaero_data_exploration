{
 "cells": [
  {
   "cell_type": "markdown",
   "metadata": {},
   "source": [
    "# <center> Retrieve data from AWS RDS </center>"
   ]
  },
  {
   "cell_type": "markdown",
   "metadata": {},
   "source": [
    "To run this code you need to pip install the following librairy : \n",
    "\n",
    "- `psycopg2`\n",
    "- `boto3`\n",
    "- `sqlalchemy`\n",
    "- `pandas` \n",
    "\n",
    "Uncomment the following cell if needed."
   ]
  },
  {
   "cell_type": "markdown",
   "metadata": {},
   "source": []
  },
  {
   "cell_type": "code",
   "execution_count": 1,
   "metadata": {},
   "outputs": [],
   "source": [
    "# !pip install psycopg2-binary boto3 pandas sqlalchemy"
   ]
  },
  {
   "cell_type": "markdown",
   "metadata": {},
   "source": [
    "This script is to connect to the postgres database. Nothing to change."
   ]
  },
  {
   "cell_type": "code",
   "execution_count": 2,
   "metadata": {},
   "outputs": [
    {
     "name": "stdout",
     "output_type": "stream",
     "text": [
      "Connetected to RDS\n"
     ]
    }
   ],
   "source": [
    "import psycopg2\n",
    "import sys\n",
    "import boto3\n",
    "import os\n",
    "\n",
    "ENDPOINT=\"database-1.c3gcywo2moej.eu-north-1.rds.amazonaws.com\"\n",
    "PORT=\"5432\"\n",
    "USER=\"postgres\"\n",
    "REGION=\"eu-north-1c\"\n",
    "DBNAME=\"Data_test\"\n",
    "PASSWORD = 'motdepasse'\n",
    "\n",
    "\n",
    "conn_string = \"host=\"+ ENDPOINT +\" port=\"+ PORT +\" user=\" + USER +\" password=\" + PASSWORD\n",
    "\n",
    "try:\n",
    "    conn = psycopg2.connect(conn_string)\n",
    "    cur = conn.cursor()\n",
    "    # cur.execute(\"\"\"SELECT now()\"\"\")\n",
    "    # query_results = cur.fetchall()\n",
    "    print(\"Connetected to RDS\")\n",
    "except Exception as e:\n",
    "    print(\"Database connection failed due to {}\".format(e))   "
   ]
  },
  {
   "cell_type": "markdown",
   "metadata": {},
   "source": [
    "This script is to create the engine of our database. Nothing to change."
   ]
  },
  {
   "cell_type": "code",
   "execution_count": 3,
   "metadata": {},
   "outputs": [],
   "source": [
    "from sqlalchemy import create_engine\n",
    "\n",
    "database_url = 'postgresql://'+ USER +':' + PASSWORD + '@' + ENDPOINT +':' + PORT + '/' + DBNAME\n",
    "engine = create_engine(database_url)\n"
   ]
  },
  {
   "cell_type": "markdown",
   "metadata": {},
   "source": [
    "Verify all the tables in the database : \n"
   ]
  },
  {
   "cell_type": "code",
   "execution_count": null,
   "metadata": {},
   "outputs": [],
   "source": [
    "from sqlalchemy import inspect\n",
    "inspector = inspect(engine)\n",
    "schemas = inspector.get_schema_names()\n",
    "\n",
    "for schema in schemas:\n",
    "    print(\"schema: %s\" % schema)\n",
    "    for table_name in inspector.get_table_names(schema=schema):\n",
    "        print(\"table: %s\" % table_name)"
   ]
  },
  {
   "cell_type": "markdown",
   "metadata": {},
   "source": [
    "The following is to retreive the tables from the database. "
   ]
  },
  {
   "cell_type": "code",
   "execution_count": 4,
   "metadata": {},
   "outputs": [
    {
     "name": "stdout",
     "output_type": "stream",
     "text": [
      "beneficiary\n",
      "   region_of_residence  age  sexe  beneficiary_id\n",
      "0                    5    4     1               0\n",
      "-------------------------------------\n",
      "medication_specialisation\n",
      "   beneficiary_id          CIP13 ATC1 ATC2  ATC3   ATC4     ATC5  \\\n",
      "0               0  3400931911999    a  a01  a01a  a01aa  a01aa01   \n",
      "\n",
      "                            l_ATC1                        L_ATC2  \\\n",
      "0  systeme digestif et metabolisme  preparations stomatologiques   \n",
      "\n",
      "                         L_ATC3                                  L_ATC4  \\\n",
      "0  preparations stomatologiques  medicaments prophylactiques anticaries   \n",
      "\n",
      "            L_ATC5  prescriber  number_of_boxes_delivered_per_client  \\\n",
      "0  sodium fluorure          99                                    17   \n",
      "\n",
      "   medicament_specialisation_id  \n",
      "0                             0  \n",
      "-------------------------------------\n",
      "medication_presentation\n",
      "           CIP13                           name_medication  \\\n",
      "0  3400949497294  anastrozole accord 1 mg comprim pellicul   \n",
      "\n",
      "  pharmaceutical_form methods_of_administration           statut_amm  \\\n",
      "0    comprim pellicul                     orale  autorisation active   \n",
      "\n",
      "                    procedure_type_amm commercialisation_state   date_AMM  \\\n",
      "0  procdure de reconnaissance mutuelle           commercialise 2010-10-28   \n",
      "\n",
      "                      owner enhanced_surveillance  \\\n",
      "0  accord healthcare france                   non   \n",
      "\n",
      "                         description_medication  \\\n",
      "0  plaquettes pvc pvdc aluminium de 30 comprims   \n",
      "\n",
      "  date_declaration_commercialisation  reimbursement_rate_per_medication  \\\n",
      "0                         2011-03-16                              100.0   \n",
      "\n",
      "   price_medication  \n",
      "0             30.36  \n",
      "-------------------------------------\n",
      "global_expenses\n",
      "           CIP13  reimbursement_base_2022  nb_boxes_reimbursed_2022  \\\n",
      "0  3400921604696                353956.43                     96127   \n",
      "\n",
      "   reimbursed_amount_2022                     name_medication  \\\n",
      "0             245082.6205  yellox 09 mgml collyre en solution   \n",
      "\n",
      "   global_expenses_id  \n",
      "0                   0  \n",
      "-------------------------------------\n",
      "generic_group\n",
      "           CIP13  GEN_NUM  TOP_GEN  generic_group_id\n",
      "0  3400931911999        0        0                 0\n",
      "-------------------------------------\n"
     ]
    }
   ],
   "source": [
    "import pandas as pd\n",
    "tables_name = ['beneficiary', 'medication_specialisation', 'medication_presentation', 'global_expenses', 'generic_group']\n",
    "tables = {}\n",
    "\n",
    "# It will take a while to load all the tables depending on the size of the database and your internet connection\n",
    "for name in tables_name:\n",
    "    tables[name] = pd.read_sql(name, engine)\n"
   ]
  },
  {
   "cell_type": "code",
   "execution_count": 6,
   "metadata": {},
   "outputs": [
    {
     "name": "stdout",
     "output_type": "stream",
     "text": [
      "beneficiary\n",
      "<class 'pandas.core.frame.DataFrame'>\n",
      "RangeIndex: 1873493 entries, 0 to 1873492\n",
      "Data columns (total 4 columns):\n",
      " #   Column               Dtype\n",
      "---  ------               -----\n",
      " 0   region_of_residence  int64\n",
      " 1   age                  int64\n",
      " 2   sexe                 int64\n",
      " 3   beneficiary_id       int64\n",
      "dtypes: int64(4)\n",
      "memory usage: 57.2 MB\n",
      "None\n",
      "-------------------------------------\n",
      "\n",
      "medication_specialisation\n",
      "<class 'pandas.core.frame.DataFrame'>\n",
      "RangeIndex: 1873493 entries, 0 to 1873492\n",
      "Data columns (total 15 columns):\n",
      " #   Column                                Dtype \n",
      "---  ------                                ----- \n",
      " 0   beneficiary_id                        int64 \n",
      " 1   CIP13                                 int64 \n",
      " 2   ATC1                                  object\n",
      " 3   ATC2                                  object\n",
      " 4   ATC3                                  object\n",
      " 5   ATC4                                  object\n",
      " 6   ATC5                                  object\n",
      " 7   l_ATC1                                object\n",
      " 8   L_ATC2                                object\n",
      " 9   L_ATC3                                object\n",
      " 10  L_ATC4                                object\n",
      " 11  L_ATC5                                object\n",
      " 12  prescriber                            int64 \n",
      " 13  number_of_boxes_delivered_per_client  int64 \n",
      " 14  medicament_specialisation_id          int64 \n",
      "dtypes: int64(5), object(10)\n",
      "memory usage: 214.4+ MB\n",
      "None\n",
      "-------------------------------------\n",
      "\n",
      "medication_presentation\n",
      "<class 'pandas.core.frame.DataFrame'>\n",
      "RangeIndex: 12174 entries, 0 to 12173\n",
      "Data columns (total 14 columns):\n",
      " #   Column                              Non-Null Count  Dtype         \n",
      "---  ------                              --------------  -----         \n",
      " 0   CIP13                               12174 non-null  int64         \n",
      " 1   name_medication                     12174 non-null  object        \n",
      " 2   pharmaceutical_form                 12174 non-null  object        \n",
      " 3   methods_of_administration           12174 non-null  object        \n",
      " 4   statut_amm                          12174 non-null  object        \n",
      " 5   procedure_type_amm                  12174 non-null  object        \n",
      " 6   commercialisation_state             12174 non-null  object        \n",
      " 7   date_AMM                            12174 non-null  datetime64[ns]\n",
      " 8   owner                               12174 non-null  object        \n",
      " 9   enhanced_surveillance               12174 non-null  object        \n",
      " 10  description_medication              12174 non-null  object        \n",
      " 11  date_declaration_commercialisation  12174 non-null  datetime64[ns]\n",
      " 12  reimbursement_rate_per_medication   11931 non-null  float64       \n",
      " 13  price_medication                    11931 non-null  float64       \n",
      "dtypes: datetime64[ns](2), float64(2), int64(1), object(9)\n",
      "memory usage: 1.3+ MB\n",
      "None\n",
      "-------------------------------------\n",
      "\n",
      "global_expenses\n",
      "<class 'pandas.core.frame.DataFrame'>\n",
      "RangeIndex: 12174 entries, 0 to 12173\n",
      "Data columns (total 6 columns):\n",
      " #   Column                    Non-Null Count  Dtype  \n",
      "---  ------                    --------------  -----  \n",
      " 0   CIP13                     12174 non-null  int64  \n",
      " 1   reimbursement_base_2022   12174 non-null  float64\n",
      " 2   nb_boxes_reimbursed_2022  12174 non-null  int64  \n",
      " 3   reimbursed_amount_2022    12174 non-null  float64\n",
      " 4   name_medication           12174 non-null  object \n",
      " 5   global_expenses_id        12174 non-null  int64  \n",
      "dtypes: float64(2), int64(3), object(1)\n",
      "memory usage: 570.8+ KB\n",
      "None\n",
      "-------------------------------------\n",
      "\n",
      "generic_group\n",
      "<class 'pandas.core.frame.DataFrame'>\n",
      "RangeIndex: 12174 entries, 0 to 12173\n",
      "Data columns (total 4 columns):\n",
      " #   Column            Non-Null Count  Dtype\n",
      "---  ------            --------------  -----\n",
      " 0   CIP13             12174 non-null  int64\n",
      " 1   GEN_NUM           12174 non-null  int64\n",
      " 2   TOP_GEN           12174 non-null  int64\n",
      " 3   generic_group_id  12174 non-null  int64\n",
      "dtypes: int64(4)\n",
      "memory usage: 380.6 KB\n",
      "None\n",
      "-------------------------------------\n",
      "\n"
     ]
    }
   ],
   "source": [
    "for name , table in tables.items():\n",
    "    print(name)\n",
    "    print(table.info())\n",
    "    print('-------------------------------------\\n')"
   ]
  },
  {
   "cell_type": "markdown",
   "metadata": {},
   "source": [
    "# Your turn :) good luck"
   ]
  },
  {
   "cell_type": "markdown",
   "metadata": {},
   "source": [
    "Create dashboard..."
   ]
  },
  {
   "cell_type": "code",
   "execution_count": null,
   "metadata": {},
   "outputs": [],
   "source": []
  }
 ],
 "metadata": {
  "kernelspec": {
   "display_name": "aibt_venv",
   "language": "python",
   "name": "python3"
  },
  "language_info": {
   "codemirror_mode": {
    "name": "ipython",
    "version": 3
   },
   "file_extension": ".py",
   "mimetype": "text/x-python",
   "name": "python",
   "nbconvert_exporter": "python",
   "pygments_lexer": "ipython3",
   "version": "3.9.18"
  }
 },
 "nbformat": 4,
 "nbformat_minor": 2
}
