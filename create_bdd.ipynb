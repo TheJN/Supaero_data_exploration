{
 "cells": [
  {
   "cell_type": "code",
   "execution_count": 1,
   "metadata": {},
   "outputs": [],
   "source": [
    "import pandas as pd\n",
    "import numpy as np\n",
    "import matplotlib.pyplot as plt\n",
    "import os\n",
    "import random \n",
    "\n",
    "# Set the seed\n",
    "random.seed(42)\n"
   ]
  },
  {
   "cell_type": "markdown",
   "metadata": {},
   "source": [
    "# READ FILES"
   ]
  },
  {
   "cell_type": "markdown",
   "metadata": {},
   "source": [
    "## OPEN MEDIC"
   ]
  },
  {
   "cell_type": "markdown",
   "metadata": {},
   "source": [
    "Information specific to a client"
   ]
  },
  {
   "cell_type": "code",
   "execution_count": 2,
   "metadata": {},
   "outputs": [
    {
     "name": "stdout",
     "output_type": "stream",
     "text": [
      "Index(['ATC1', 'l_ATC1', 'ATC2', 'L_ATC2', 'ATC3', 'L_ATC3', 'ATC4', 'L_ATC4',\n",
      "       'ATC5', 'L_ATC5', 'CIP13', 'l_cip13', 'TOP_GEN', 'GEN_NUM', 'age',\n",
      "       'sexe', 'BEN_REG', 'PSP_SPE', 'BOITES', 'REM', 'BSE'],\n",
      "      dtype='object')\n"
     ]
    }
   ],
   "source": [
    "\n",
    "# Read in the data\n",
    "path_to_OpenMedic = \"OpenMedic/OPEN_MEDIC_2022 2.CSV\"\n",
    "openMedic = pd.read_csv(path_to_OpenMedic, sep=\";\", encoding=\"ISO-8859-1\")\n",
    "\n",
    "print(openMedic.columns)\n",
    "# openMedic.head()"
   ]
  },
  {
   "cell_type": "code",
   "execution_count": 3,
   "metadata": {},
   "outputs": [
    {
     "data": {
      "text/plain": [
       "Index(['ATC1', 'l_ATC1', 'ATC2', 'L_ATC2', 'ATC3', 'L_ATC3', 'ATC4', 'L_ATC4',\n",
       "       'ATC5', 'L_ATC5', 'CIP13', 'l_cip13', 'TOP_GEN', 'GEN_NUM', 'age',\n",
       "       'sexe', 'region_of_residence', 'prescriber',\n",
       "       'number_of_boxes_delivered_per_client', 'amount_reimbursed_per_client',\n",
       "       'reimbursement_base_per_client'],\n",
       "      dtype='object')"
      ]
     },
     "execution_count": 3,
     "metadata": {},
     "output_type": "execute_result"
    }
   ],
   "source": [
    "openMedic = openMedic.rename(columns={\"BEN_REG\": \"region_of_residence\",\n",
    "                                      \"PSP_SPE\": \"prescriber\",\n",
    "                                      \"BOITES\": \"number_of_boxes_delivered_per_client\",\n",
    "                                      \"REM\": \"amount_reimbursed_per_client\",\n",
    "                                      \"BSE\": \"reimbursement_base_per_client\",})\n",
    "openMedic.columns"
   ]
  },
  {
   "cell_type": "code",
   "execution_count": 4,
   "metadata": {},
   "outputs": [
    {
     "data": {
      "text/plain": [
       "12718"
      ]
     },
     "execution_count": 4,
     "metadata": {},
     "output_type": "execute_result"
    }
   ],
   "source": [
    "openMedic.loc[openMedic['CIP13'] == 3400921609080]\n",
    "openMedic['CIP13'].nunique()"
   ]
  },
  {
   "cell_type": "markdown",
   "metadata": {},
   "source": [
    "## MEDIC'AM"
   ]
  },
  {
   "cell_type": "markdown",
   "metadata": {},
   "source": [
    "Information specific to a medicament"
   ]
  },
  {
   "cell_type": "code",
   "execution_count": 5,
   "metadata": {},
   "outputs": [
    {
     "name": "stdout",
     "output_type": "stream",
     "text": [
      "Index(['CIP13', 'NOM COURT', 'PRODUIT', 'Code EphMRA', 'Classe EphMRA',\n",
      "       'Code\\nATC', 'Classe\\nATC', 'Code\\nATC 2', 'Libellé\\nATC 2',\n",
      "       'Base de remboursement 2022', 'Nombre de boites remboursées \\n2022',\n",
      "       'Montant remboursé \\n2022'],\n",
      "      dtype='object')\n"
     ]
    }
   ],
   "source": [
    "path_to_MedicAm = \"Medic'AM/2022-medic-am-par-type-de-prescripteur_serie-annuelle.xls\"\n",
    "dict_df = pd.read_excel(path_to_MedicAm,sheet_name=['MedicAM_2022_tous_presc','MedicAM_2022_presc_ville','MedicAM_2022_presc_hopital'])\n",
    "\n",
    "MedicAM_2022_presc_hopital = dict_df.get('MedicAM_2022_presc_hopital')\n",
    "MedicAM_2022_presc_ville = dict_df.get('MedicAM_2022_presc_ville')\n",
    "MedicAM_2022_tous_presc = dict_df.get('MedicAM_2022_tous_presc')\n",
    "\n",
    "print(MedicAM_2022_tous_presc.columns)"
   ]
  },
  {
   "cell_type": "code",
   "execution_count": 6,
   "metadata": {},
   "outputs": [
    {
     "data": {
      "text/plain": [
       "Index(['CIP13', 'NOM COURT', 'PRODUIT', 'Code EphMRA', 'Classe EphMRA',\n",
       "       'Code\\nATC', 'Classe\\nATC', 'Code\\nATC 2', 'Libellé\\nATC 2',\n",
       "       'reimbursement_base_2022', 'nb_boxes_reimbursed_2022',\n",
       "       'reimbursed_amount_2022'],\n",
       "      dtype='object')"
      ]
     },
     "execution_count": 6,
     "metadata": {},
     "output_type": "execute_result"
    }
   ],
   "source": [
    "MedicAM_2022_tous_presc = MedicAM_2022_tous_presc.rename(columns={\"Base de remboursement 2022\": \"reimbursement_base_2022\",\n",
    "                                                                    \"Nombre de boites remboursées \\n2022\": \"nb_boxes_reimbursed_2022\",\n",
    "                                                                    \"Montant remboursé \\n2022\": \"reimbursed_amount_2022\",})\n",
    "MedicAM_2022_tous_presc.columns"
   ]
  },
  {
   "cell_type": "code",
   "execution_count": 7,
   "metadata": {},
   "outputs": [
    {
     "data": {
      "text/plain": [
       "15103"
      ]
     },
     "execution_count": 7,
     "metadata": {},
     "output_type": "execute_result"
    }
   ],
   "source": [
    "MedicAM_2022_tous_presc.loc[MedicAM_2022_tous_presc['CIP13'] == 3400921609080]\n",
    "MedicAM_2022_tous_presc['CIP13'].nunique()"
   ]
  },
  {
   "cell_type": "markdown",
   "metadata": {},
   "source": [
    "## CIS Files"
   ]
  },
  {
   "cell_type": "code",
   "execution_count": 8,
   "metadata": {},
   "outputs": [
    {
     "name": "stdout",
     "output_type": "stream",
     "text": [
      "Columns of the dataframes : \n",
      "\n",
      "CIS_COMPO_bdpm.txt : Index([0, 1, 2, 3, 4, 5, 6, 7, 8], dtype='int64')\n",
      "CIS_bdpm.txt : Index([0, 1, 2, 3, 4, 5, 6, 7, 8, 9, 10, 11], dtype='int64')\n",
      "CIS_CIP_bdpm.txt : Index([0, 1, 2, 3, 4, 5, 6, 7, 8, 9, 10, 11, 12], dtype='int64')\n",
      "CIS_InfoImportantes_20240106103446_bdpm.txt : Index([0, 1, 2, 3], dtype='int64')\n",
      "CIS_CIP_Dispo_Spec.txt : Index([0, 1, 2, 3, 4, 5, 6, 7], dtype='int64')\n",
      "HAS_LiensPageCT_bdpm.txt : Index([0, 1], dtype='int64')\n",
      "CIS_HAS_ASMR_bdpm.txt : Index([0, 1, 2, 3, 4, 5], dtype='int64')\n",
      "CIS_HAS_SMR_bdpm.txt : Index([0, 1, 2, 3, 4, 5], dtype='int64')\n",
      "CIS_GENER_bdpm.txt : Index([0, 1, 2, 3, 4, 5], dtype='int64')\n",
      "CIS_CPD_bdpm.txt : Index([0, 1], dtype='int64')\n"
     ]
    }
   ],
   "source": [
    "path_to_DBB_Medicaments = \"BDD_Medicaments\"\n",
    "list_path = []\n",
    "\n",
    "for (dirpath, dirnames, filenames) in os.walk(path_to_DBB_Medicaments):\n",
    "    list_path.extend(os.path.join(dirpath, filename) for filename in filenames)\n",
    "\n",
    "list_df = {}\n",
    "for path in list_path:\n",
    "    df = pd.read_csv(path, encoding='latin-1', delimiter='\\t',header=None)\n",
    "    list_df[path.split('/')[-1]] = df\n",
    "list_df.keys()\n",
    "\n",
    "print('Columns of the dataframes : \\n')\n",
    "for key in list_df.keys():\n",
    "    print(key ,':', list_df[key].columns)\n",
    "    # print('-'*20)"
   ]
  },
  {
   "cell_type": "markdown",
   "metadata": {},
   "source": [
    "We can see that the columns does not have names. We will replace the columns names by their real names to facilitate the utilisation.\n"
   ]
  },
  {
   "cell_type": "markdown",
   "metadata": {},
   "source": [
    "Among these files we will be using `CIS_CIP_bdpm.txt`\n",
    "Il contient la liste des présentations (boîtes de médicaments) disponibles pour les\n",
    "médicaments présents dans le fichier décrit dans le paragraphe 3.1.\n",
    "Les éléments mis à disposition dans ce fichier sont les suivants :\n",
    "- Code CIS\n",
    "- Code CIP7 (Code Identifiant de Présentation à 7 chiffres)\n",
    "- Libellé de la présentation\n",
    "- Statut administratif de la présentation\n",
    "- Etat de commercialisation de la présentation tel que déclaré par le titulaire de l'AMM\n",
    "- Date de la déclaration de commercialisation (format JJ/MM/AAAA)\n",
    "- Code CIP13 (Code Identifiant de Présentation à 13 chiffres)\n",
    "- Agrément aux collectivités (\"oui\", \"non\" ou « inconnu »)\n",
    "- Taux de remboursement (avec un séparateur « ; » entre chaque valeur quand il y en a\n",
    "plusieurs)\n",
    "- Prix du médicament en euro\n",
    "- Texte présentant les indications ouvrant droit au remboursement par l’assurance\n",
    "maladie s’il y a plusieurs taux de remboursement pour la même présentation."
   ]
  },
  {
   "cell_type": "code",
   "execution_count": 9,
   "metadata": {},
   "outputs": [],
   "source": [
    "list_df['CIS_CIP_bdpm.txt'] = list_df['CIS_CIP_bdpm.txt'].rename(columns={0:\"CIS\",\n",
    "                                                                          1:\"CIP7\",\n",
    "                                                                          2:\"description_medication\",\n",
    "                                                                          3:\"statut\",\n",
    "                                                                          4:\"commercialisation_state_by_owner\",\n",
    "                                                                          5:\"date_declaration_commercialisation\",\n",
    "                                                                          6:\"CIP13\",\n",
    "                                                                          7:\"collectivity_agreement\",\n",
    "                                                                          8:\"reimbursement_rate_per_medication\",\n",
    "                                                                          9:\"price_medication\",\n",
    "                                                                          10:10,\n",
    "                                                                          11:11,\n",
    "                                                                          12:\"pharmacy_recommendation\",})\n"
   ]
  },
  {
   "cell_type": "code",
   "execution_count": 10,
   "metadata": {},
   "outputs": [],
   "source": [
    "list_df['CIS_bdpm.txt'] = list_df['CIS_bdpm.txt'].rename(columns={0:\"CIS\",\n",
    "                                                                    1:\"name_medication\",\n",
    "                                                                    2:\"pharmaceutical_form\",\n",
    "                                                                    3:\"methods_of_administration\",\n",
    "                                                                    4:\"statut_amm\",\n",
    "                                                                    5:\"procedure_type_amm\",\n",
    "                                                                    6:\"commercialisation_state\",\n",
    "                                                                    7:\"date_AMM\",\n",
    "                                                                    8:\"statutBdm\",\n",
    "                                                                    9:\"european_authorization_number\",\n",
    "                                                                    10:\"owner\",\n",
    "                                                                    11:\"enhanced_surveillance\"})\n",
    "list_df['CIS_bdpm.txt'].drop(columns=['statutBdm'], inplace=True)"
   ]
  },
  {
   "cell_type": "markdown",
   "metadata": {},
   "source": [
    "We merge our files on the CIS code to gather all useful information to one dataframe"
   ]
  },
  {
   "cell_type": "code",
   "execution_count": 11,
   "metadata": {},
   "outputs": [],
   "source": [
    "master_cis_files = list_df['CIS_CIP_bdpm.txt'].merge(list_df['CIS_bdpm.txt'], on='CIS', how='left')"
   ]
  },
  {
   "cell_type": "code",
   "execution_count": 12,
   "metadata": {},
   "outputs": [
    {
     "data": {
      "text/plain": [
       "20857"
      ]
     },
     "execution_count": 12,
     "metadata": {},
     "output_type": "execute_result"
    }
   ],
   "source": [
    "master_cis_files.loc[master_cis_files['CIP13'] == 3400921609080]\n",
    "master_cis_files['CIP13'].nunique()"
   ]
  },
  {
   "cell_type": "code",
   "execution_count": 13,
   "metadata": {},
   "outputs": [],
   "source": [
    "master_dataframe = openMedic.merge(\n",
    "    master_cis_files, on='CIP13', how='left').merge(\n",
    "    MedicAM_2022_tous_presc[['CIP13','reimbursement_base_2022', 'nb_boxes_reimbursed_2022','reimbursed_amount_2022']], on='CIP13', how='left')"
   ]
  },
  {
   "cell_type": "code",
   "execution_count": 14,
   "metadata": {},
   "outputs": [
    {
     "data": {
      "text/plain": [
       "12718"
      ]
     },
     "execution_count": 14,
     "metadata": {},
     "output_type": "execute_result"
    }
   ],
   "source": [
    "master_dataframe['CIP13'].nunique()"
   ]
  },
  {
   "cell_type": "code",
   "execution_count": 15,
   "metadata": {},
   "outputs": [
    {
     "data": {
      "text/plain": [
       "Index([                                'ATC1',\n",
       "                                     'l_ATC1',\n",
       "                                       'ATC2',\n",
       "                                     'L_ATC2',\n",
       "                                       'ATC3',\n",
       "                                     'L_ATC3',\n",
       "                                       'ATC4',\n",
       "                                     'L_ATC4',\n",
       "                                       'ATC5',\n",
       "                                     'L_ATC5',\n",
       "                                      'CIP13',\n",
       "                                    'l_cip13',\n",
       "                                    'TOP_GEN',\n",
       "                                    'GEN_NUM',\n",
       "                                        'age',\n",
       "                                       'sexe',\n",
       "                        'region_of_residence',\n",
       "                                 'prescriber',\n",
       "       'number_of_boxes_delivered_per_client',\n",
       "               'amount_reimbursed_per_client',\n",
       "              'reimbursement_base_per_client',\n",
       "                                        'CIS',\n",
       "                                       'CIP7',\n",
       "                     'description_medication',\n",
       "                                     'statut',\n",
       "           'commercialisation_state_by_owner',\n",
       "         'date_declaration_commercialisation',\n",
       "                     'collectivity_agreement',\n",
       "          'reimbursement_rate_per_medication',\n",
       "                           'price_medication',\n",
       "                                           10,\n",
       "                                           11,\n",
       "                    'pharmacy_recommendation',\n",
       "                            'name_medication',\n",
       "                        'pharmaceutical_form',\n",
       "                  'methods_of_administration',\n",
       "                                 'statut_amm',\n",
       "                         'procedure_type_amm',\n",
       "                    'commercialisation_state',\n",
       "                                   'date_AMM',\n",
       "              'european_authorization_number',\n",
       "                                      'owner',\n",
       "                      'enhanced_surveillance',\n",
       "                    'reimbursement_base_2022',\n",
       "                   'nb_boxes_reimbursed_2022',\n",
       "                     'reimbursed_amount_2022'],\n",
       "      dtype='object')"
      ]
     },
     "execution_count": 15,
     "metadata": {},
     "output_type": "execute_result"
    }
   ],
   "source": [
    "master_dataframe.columns"
   ]
  },
  {
   "cell_type": "code",
   "execution_count": 16,
   "metadata": {},
   "outputs": [
    {
     "data": {
      "text/html": [
       "<div>\n",
       "<style scoped>\n",
       "    .dataframe tbody tr th:only-of-type {\n",
       "        vertical-align: middle;\n",
       "    }\n",
       "\n",
       "    .dataframe tbody tr th {\n",
       "        vertical-align: top;\n",
       "    }\n",
       "\n",
       "    .dataframe thead th {\n",
       "        text-align: right;\n",
       "    }\n",
       "</style>\n",
       "<table border=\"1\" class=\"dataframe\">\n",
       "  <thead>\n",
       "    <tr style=\"text-align: right;\">\n",
       "      <th></th>\n",
       "      <th>ATC1</th>\n",
       "      <th>l_ATC1</th>\n",
       "      <th>ATC2</th>\n",
       "      <th>L_ATC2</th>\n",
       "      <th>ATC3</th>\n",
       "      <th>L_ATC3</th>\n",
       "      <th>ATC4</th>\n",
       "      <th>L_ATC4</th>\n",
       "      <th>ATC5</th>\n",
       "      <th>L_ATC5</th>\n",
       "      <th>...</th>\n",
       "      <th>procedure_type_amm</th>\n",
       "      <th>commercialisation_state</th>\n",
       "      <th>date_AMM</th>\n",
       "      <th>european_authorization_number</th>\n",
       "      <th>owner</th>\n",
       "      <th>enhanced_surveillance</th>\n",
       "      <th>reimbursement_base_2022</th>\n",
       "      <th>nb_boxes_reimbursed_2022</th>\n",
       "      <th>reimbursed_amount_2022</th>\n",
       "      <th>master_key</th>\n",
       "    </tr>\n",
       "  </thead>\n",
       "  <tbody>\n",
       "    <tr>\n",
       "      <th>0</th>\n",
       "      <td>A</td>\n",
       "      <td>SYSTEME DIGESTIF ET METABOLISME</td>\n",
       "      <td>A01</td>\n",
       "      <td>PREPARATIONS STOMATOLOGIQUES</td>\n",
       "      <td>A01A</td>\n",
       "      <td>PREPARATIONS STOMATOLOGIQUES</td>\n",
       "      <td>A01AA</td>\n",
       "      <td>MEDICAMENTS PROPHYLACTIQUES ANTICARIES</td>\n",
       "      <td>A01AA01</td>\n",
       "      <td>SODIUM FLUORURE</td>\n",
       "      <td>...</td>\n",
       "      <td>Procï¿½dure nationale</td>\n",
       "      <td>Non commercialisï¿½e</td>\n",
       "      <td>10/09/1992</td>\n",
       "      <td>NaN</td>\n",
       "      <td>ROTTAPHARM</td>\n",
       "      <td>Non</td>\n",
       "      <td>420.7</td>\n",
       "      <td>316.0</td>\n",
       "      <td>140.0775</td>\n",
       "      <td>0</td>\n",
       "    </tr>\n",
       "    <tr>\n",
       "      <th>1</th>\n",
       "      <td>A</td>\n",
       "      <td>SYSTEME DIGESTIF ET METABOLISME</td>\n",
       "      <td>A01</td>\n",
       "      <td>PREPARATIONS STOMATOLOGIQUES</td>\n",
       "      <td>A01A</td>\n",
       "      <td>PREPARATIONS STOMATOLOGIQUES</td>\n",
       "      <td>A01AA</td>\n",
       "      <td>MEDICAMENTS PROPHYLACTIQUES ANTICARIES</td>\n",
       "      <td>A01AA01</td>\n",
       "      <td>SODIUM FLUORURE</td>\n",
       "      <td>...</td>\n",
       "      <td>Procï¿½dure nationale</td>\n",
       "      <td>Non commercialisï¿½e</td>\n",
       "      <td>10/09/1992</td>\n",
       "      <td>NaN</td>\n",
       "      <td>ROTTAPHARM</td>\n",
       "      <td>Non</td>\n",
       "      <td>420.7</td>\n",
       "      <td>316.0</td>\n",
       "      <td>140.0775</td>\n",
       "      <td>1</td>\n",
       "    </tr>\n",
       "    <tr>\n",
       "      <th>2</th>\n",
       "      <td>A</td>\n",
       "      <td>SYSTEME DIGESTIF ET METABOLISME</td>\n",
       "      <td>A01</td>\n",
       "      <td>PREPARATIONS STOMATOLOGIQUES</td>\n",
       "      <td>A01A</td>\n",
       "      <td>PREPARATIONS STOMATOLOGIQUES</td>\n",
       "      <td>A01AA</td>\n",
       "      <td>MEDICAMENTS PROPHYLACTIQUES ANTICARIES</td>\n",
       "      <td>A01AA01</td>\n",
       "      <td>SODIUM FLUORURE</td>\n",
       "      <td>...</td>\n",
       "      <td>Procï¿½dure nationale</td>\n",
       "      <td>Non commercialisï¿½e</td>\n",
       "      <td>10/09/1992</td>\n",
       "      <td>NaN</td>\n",
       "      <td>ROTTAPHARM</td>\n",
       "      <td>Non</td>\n",
       "      <td>420.7</td>\n",
       "      <td>316.0</td>\n",
       "      <td>140.0775</td>\n",
       "      <td>2</td>\n",
       "    </tr>\n",
       "    <tr>\n",
       "      <th>3</th>\n",
       "      <td>A</td>\n",
       "      <td>SYSTEME DIGESTIF ET METABOLISME</td>\n",
       "      <td>A01</td>\n",
       "      <td>PREPARATIONS STOMATOLOGIQUES</td>\n",
       "      <td>A01A</td>\n",
       "      <td>PREPARATIONS STOMATOLOGIQUES</td>\n",
       "      <td>A01AA</td>\n",
       "      <td>MEDICAMENTS PROPHYLACTIQUES ANTICARIES</td>\n",
       "      <td>A01AA01</td>\n",
       "      <td>SODIUM FLUORURE</td>\n",
       "      <td>...</td>\n",
       "      <td>Procï¿½dure nationale</td>\n",
       "      <td>Non commercialisï¿½e</td>\n",
       "      <td>10/09/1992</td>\n",
       "      <td>NaN</td>\n",
       "      <td>ROTTAPHARM</td>\n",
       "      <td>Non</td>\n",
       "      <td>420.7</td>\n",
       "      <td>316.0</td>\n",
       "      <td>140.0775</td>\n",
       "      <td>3</td>\n",
       "    </tr>\n",
       "    <tr>\n",
       "      <th>4</th>\n",
       "      <td>A</td>\n",
       "      <td>SYSTEME DIGESTIF ET METABOLISME</td>\n",
       "      <td>A01</td>\n",
       "      <td>PREPARATIONS STOMATOLOGIQUES</td>\n",
       "      <td>A01A</td>\n",
       "      <td>PREPARATIONS STOMATOLOGIQUES</td>\n",
       "      <td>A01AA</td>\n",
       "      <td>MEDICAMENTS PROPHYLACTIQUES ANTICARIES</td>\n",
       "      <td>A01AA01</td>\n",
       "      <td>SODIUM FLUORURE</td>\n",
       "      <td>...</td>\n",
       "      <td>Procï¿½dure nationale</td>\n",
       "      <td>Non commercialisï¿½e</td>\n",
       "      <td>10/09/1992</td>\n",
       "      <td>NaN</td>\n",
       "      <td>ROTTAPHARM</td>\n",
       "      <td>Non</td>\n",
       "      <td>420.7</td>\n",
       "      <td>316.0</td>\n",
       "      <td>140.0775</td>\n",
       "      <td>4</td>\n",
       "    </tr>\n",
       "  </tbody>\n",
       "</table>\n",
       "<p>5 rows × 47 columns</p>\n",
       "</div>"
      ],
      "text/plain": [
       "  ATC1                           l_ATC1 ATC2                        L_ATC2  \\\n",
       "0    A  SYSTEME DIGESTIF ET METABOLISME  A01  PREPARATIONS STOMATOLOGIQUES   \n",
       "1    A  SYSTEME DIGESTIF ET METABOLISME  A01  PREPARATIONS STOMATOLOGIQUES   \n",
       "2    A  SYSTEME DIGESTIF ET METABOLISME  A01  PREPARATIONS STOMATOLOGIQUES   \n",
       "3    A  SYSTEME DIGESTIF ET METABOLISME  A01  PREPARATIONS STOMATOLOGIQUES   \n",
       "4    A  SYSTEME DIGESTIF ET METABOLISME  A01  PREPARATIONS STOMATOLOGIQUES   \n",
       "\n",
       "   ATC3                        L_ATC3   ATC4  \\\n",
       "0  A01A  PREPARATIONS STOMATOLOGIQUES  A01AA   \n",
       "1  A01A  PREPARATIONS STOMATOLOGIQUES  A01AA   \n",
       "2  A01A  PREPARATIONS STOMATOLOGIQUES  A01AA   \n",
       "3  A01A  PREPARATIONS STOMATOLOGIQUES  A01AA   \n",
       "4  A01A  PREPARATIONS STOMATOLOGIQUES  A01AA   \n",
       "\n",
       "                                   L_ATC4     ATC5           L_ATC5  ...  \\\n",
       "0  MEDICAMENTS PROPHYLACTIQUES ANTICARIES  A01AA01  SODIUM FLUORURE  ...   \n",
       "1  MEDICAMENTS PROPHYLACTIQUES ANTICARIES  A01AA01  SODIUM FLUORURE  ...   \n",
       "2  MEDICAMENTS PROPHYLACTIQUES ANTICARIES  A01AA01  SODIUM FLUORURE  ...   \n",
       "3  MEDICAMENTS PROPHYLACTIQUES ANTICARIES  A01AA01  SODIUM FLUORURE  ...   \n",
       "4  MEDICAMENTS PROPHYLACTIQUES ANTICARIES  A01AA01  SODIUM FLUORURE  ...   \n",
       "\n",
       "      procedure_type_amm commercialisation_state    date_AMM  \\\n",
       "0  Procï¿½dure nationale    Non commercialisï¿½e  10/09/1992   \n",
       "1  Procï¿½dure nationale    Non commercialisï¿½e  10/09/1992   \n",
       "2  Procï¿½dure nationale    Non commercialisï¿½e  10/09/1992   \n",
       "3  Procï¿½dure nationale    Non commercialisï¿½e  10/09/1992   \n",
       "4  Procï¿½dure nationale    Non commercialisï¿½e  10/09/1992   \n",
       "\n",
       "   european_authorization_number        owner  enhanced_surveillance  \\\n",
       "0                            NaN   ROTTAPHARM                    Non   \n",
       "1                            NaN   ROTTAPHARM                    Non   \n",
       "2                            NaN   ROTTAPHARM                    Non   \n",
       "3                            NaN   ROTTAPHARM                    Non   \n",
       "4                            NaN   ROTTAPHARM                    Non   \n",
       "\n",
       "   reimbursement_base_2022  nb_boxes_reimbursed_2022  reimbursed_amount_2022  \\\n",
       "0                    420.7                     316.0                140.0775   \n",
       "1                    420.7                     316.0                140.0775   \n",
       "2                    420.7                     316.0                140.0775   \n",
       "3                    420.7                     316.0                140.0775   \n",
       "4                    420.7                     316.0                140.0775   \n",
       "\n",
       "  master_key  \n",
       "0          0  \n",
       "1          1  \n",
       "2          2  \n",
       "3          3  \n",
       "4          4  \n",
       "\n",
       "[5 rows x 47 columns]"
      ]
     },
     "execution_count": 16,
     "metadata": {},
     "output_type": "execute_result"
    }
   ],
   "source": [
    "master_dataframe['master_key'] = master_dataframe.index\n",
    "master_dataframe.head()"
   ]
  },
  {
   "cell_type": "markdown",
   "metadata": {},
   "source": [
    "# Table creation "
   ]
  },
  {
   "cell_type": "markdown",
   "metadata": {},
   "source": [
    "![diagram](logical_model.drawio.png)"
   ]
  },
  {
   "cell_type": "markdown",
   "metadata": {},
   "source": [
    "##  `beneficiary`"
   ]
  },
  {
   "cell_type": "code",
   "execution_count": 17,
   "metadata": {},
   "outputs": [],
   "source": [
    "import random\n",
    "\n",
    "def age_group_to_age(age_group):\n",
    "    if age_group == 0:\n",
    "        return random.randint(1,19)\n",
    "    elif age_group == 20:\n",
    "        return random.randint(20,59)\n",
    "    elif age_group == 60:\n",
    "        return random.randint(60,100)\n",
    "    else:\n",
    "        return random.randint(1,100)\n",
    "\n",
    "def nbSexe_to_strSexe(sexe):\n",
    "    if sexe == 1:\n",
    "        return \"MASCULIN\"\n",
    "    elif sexe == 2:\n",
    "        return \"FEMININ\"\n",
    "    else:\n",
    "        # return masculin or feminin randomly\n",
    "        return random.choice([\"MASCULIN\",\"FEMININ\"])\n",
    "    \n",
    "def nbRegion_to_strRegion(region):\n",
    "    if region == 5:\n",
    "        return \"Régions et Départements d'outre-mer\"\n",
    "    elif region == 11:\n",
    "        return \"Ile-de-France\"\n",
    "    elif region == 24:\n",
    "        return \"Centre-Val de Loire\"\n",
    "    elif region == 27:\n",
    "        return \"Bourgogne-Franche-Comté\"\n",
    "    elif region == 28:\n",
    "        return \"Normandie\"\n",
    "    elif region == 32:\n",
    "        return \"Nord-Pas-de-Calais-Picardie\"\n",
    "    elif region == 44:\n",
    "        return \"Alsace-Champagne-Ardenne-Lorraine\"\n",
    "    elif region == 52:\n",
    "        return \"Pays de la Loire\"\n",
    "    elif region == 53:\n",
    "        return \"Bretagne\"\n",
    "    elif region == 75:\n",
    "        return \"Aquitaine-Limousin-Poitou-Charentes\"\n",
    "    elif region == 76:\n",
    "        return \"Languedoc-Roussillon-Midi-Pyrénées\"\n",
    "    elif region == 84:\n",
    "        return \"Auvergne-Rhône-Alpes\"\n",
    "    elif region == 93:\n",
    "        return \"Provence-Alpes-Côte d'Azur et Corse\"\n",
    "    elif region == 0 or region == 99:\n",
    "        return \"Inconnu\"\n",
    "    else:\n",
    "        return random.choice([\"Régions et Départements d'outre-mer\",\"Ile-de-France\",\"Centre-Val de Loire\",\"Bourgogne-Franche-Comté\",\"Normandie\",\"Nord-Pas-de-Calais-Picardie\",\"Alsace-Champagne-Ardenne-Lorraine\",\"Pays de la Loire\",\"Bretagne\",\"Aquitaine-Limousin-Poitou-Charentes\",\"Languedoc-Roussillon-Midi-Pyrénées\",\"Auvergne-Rhône-Alpes\",\"Provence-Alpes-Côte d'Azur et Corse\",\"Inconnu\"])"
   ]
  },
  {
   "cell_type": "code",
   "execution_count": 18,
   "metadata": {},
   "outputs": [
    {
     "data": {
      "text/plain": [
       "((1873493, 5),\n",
       "    region_of_residence  age  sexe  master_key  beneficiary_id\n",
       " 0                    5    4     1           0               0\n",
       " 1                   11    1     1           1               1\n",
       " 2                   44    9     1           2               2\n",
       " 3                   84    8     1           3               3\n",
       " 4                   99    8     1           4               4)"
      ]
     },
     "execution_count": 18,
     "metadata": {},
     "output_type": "execute_result"
    }
   ],
   "source": [
    "beneficiary = master_dataframe[['region_of_residence','age','sexe','master_key']].copy()\n",
    "beneficiary['age'] = beneficiary['age'].apply(age_group_to_age)\n",
    "beneficiary['beneficiary_id'] = beneficiary.index\n",
    "beneficiary.shape,beneficiary.head()"
   ]
  },
  {
   "cell_type": "markdown",
   "metadata": {},
   "source": [
    "##  `Medication_specialisation`"
   ]
  },
  {
   "cell_type": "code",
   "execution_count": 19,
   "metadata": {},
   "outputs": [
    {
     "data": {
      "text/plain": [
       "((1873493, 16),\n",
       "    beneficiary_id  master_key          CIP13 ATC1 ATC2  ATC3   ATC4     ATC5  \\\n",
       " 0               0           0  3400931911999    A  A01  A01A  A01AA  A01AA01   \n",
       " 1               1           1  3400931911999    A  A01  A01A  A01AA  A01AA01   \n",
       " 2               2           2  3400931911999    A  A01  A01A  A01AA  A01AA01   \n",
       " 3               3           3  3400931911999    A  A01  A01A  A01AA  A01AA01   \n",
       " 4               4           4  3400931911999    A  A01  A01A  A01AA  A01AA01   \n",
       " \n",
       "                             l_ATC1                        L_ATC2  \\\n",
       " 0  SYSTEME DIGESTIF ET METABOLISME  PREPARATIONS STOMATOLOGIQUES   \n",
       " 1  SYSTEME DIGESTIF ET METABOLISME  PREPARATIONS STOMATOLOGIQUES   \n",
       " 2  SYSTEME DIGESTIF ET METABOLISME  PREPARATIONS STOMATOLOGIQUES   \n",
       " 3  SYSTEME DIGESTIF ET METABOLISME  PREPARATIONS STOMATOLOGIQUES   \n",
       " 4  SYSTEME DIGESTIF ET METABOLISME  PREPARATIONS STOMATOLOGIQUES   \n",
       " \n",
       "                          L_ATC3                                  L_ATC4  \\\n",
       " 0  PREPARATIONS STOMATOLOGIQUES  MEDICAMENTS PROPHYLACTIQUES ANTICARIES   \n",
       " 1  PREPARATIONS STOMATOLOGIQUES  MEDICAMENTS PROPHYLACTIQUES ANTICARIES   \n",
       " 2  PREPARATIONS STOMATOLOGIQUES  MEDICAMENTS PROPHYLACTIQUES ANTICARIES   \n",
       " 3  PREPARATIONS STOMATOLOGIQUES  MEDICAMENTS PROPHYLACTIQUES ANTICARIES   \n",
       " 4  PREPARATIONS STOMATOLOGIQUES  MEDICAMENTS PROPHYLACTIQUES ANTICARIES   \n",
       " \n",
       "             L_ATC5  prescriber  number_of_boxes_delivered_per_client  \\\n",
       " 0  SODIUM FLUORURE          99                                    17   \n",
       " 1  SODIUM FLUORURE          99                                    24   \n",
       " 2  SODIUM FLUORURE          99                                    20   \n",
       " 3  SODIUM FLUORURE          99                                    13   \n",
       " 4  SODIUM FLUORURE           1                                    14   \n",
       " \n",
       "    medicament_specialisation_id  \n",
       " 0                             0  \n",
       " 1                             1  \n",
       " 2                             2  \n",
       " 3                             3  \n",
       " 4                             4  )"
      ]
     },
     "execution_count": 19,
     "metadata": {},
     "output_type": "execute_result"
    }
   ],
   "source": [
    "# I need to create a table with the following columns :\n",
    "# - 'medicament_specialisation_id' : primary key\n",
    "# - beneficiary_id : foreign key\n",
    "# - CIP13 : foreign key\n",
    "# - ATC1\n",
    "# - ATC2\n",
    "# - ATC3\n",
    "# - ATC4\n",
    "# - ATC5\n",
    "# - l_ATC1\n",
    "# - L_ATC2\n",
    "# - L_ATC3\n",
    "# - L_ATC4\n",
    "# - L_ATC5\n",
    "# - prescriber\n",
    "# - number_of_boxes_delivered_per_client\n",
    "\n",
    "\n",
    "medication_specialisation = pd.merge(beneficiary[['beneficiary_id', 'master_key']], \n",
    "                      master_dataframe[['CIP13', 'ATC1','ATC2','ATC3','ATC4','ATC5','l_ATC1','L_ATC2','L_ATC3','L_ATC4','L_ATC5','prescriber','number_of_boxes_delivered_per_client','master_key']], \n",
    "                      on='master_key', \n",
    "                      how='inner')\n",
    "\n",
    "medication_specialisation['medicament_specialisation_id'] = medication_specialisation.index\n",
    "\n",
    "\n",
    "medication_specialisation.shape,medication_specialisation.head()\n"
   ]
  },
  {
   "cell_type": "markdown",
   "metadata": {},
   "source": [
    "# `Medication_presentation`"
   ]
  },
  {
   "cell_type": "code",
   "execution_count": 20,
   "metadata": {},
   "outputs": [
    {
     "data": {
      "text/plain": [
       "((12174, 14),\n",
       "            CIP13                                    name_medication  \\\n",
       " 0  3400949497294    ANASTROZOLE ACCORD 1 mg, comprimï¿½ pelliculï¿½   \n",
       " 1  3400949497706    ANASTROZOLE ACCORD 1 mg, comprimï¿½ pelliculï¿½   \n",
       " 2  3400936963504  BECLOSPIN 800 microgrammes/2ml suspension pour...   \n",
       " 3  3400936145825                  FENOFIBRATE TEVA 100 mg, gï¿½lule   \n",
       " 4  3400939725192  TRAMADOL EG L.P. 200 mg, comprimï¿½ ï¿½ libï¿½...   \n",
       " \n",
       "                            pharmaceutical_form methods_of_administration  \\\n",
       " 0                       comprimï¿½ pelliculï¿½                     orale   \n",
       " 1                       comprimï¿½ pelliculï¿½                     orale   \n",
       " 2  suspension pour inhalation par nï¿½buliseur                 inhalï¿½e   \n",
       " 3                                     gï¿½lule                     orale   \n",
       " 4      comprimï¿½ ï¿½ libï¿½ration prolongï¿½e                     orale   \n",
       " \n",
       "             statut_amm                      procedure_type_amm  \\\n",
       " 0  Autorisation active  Procï¿½dure de reconnaissance mutuelle   \n",
       " 1  Autorisation active  Procï¿½dure de reconnaissance mutuelle   \n",
       " 2  Autorisation active  Procï¿½dure de reconnaissance mutuelle   \n",
       " 3  Autorisation active                   Procï¿½dure nationale   \n",
       " 4  Autorisation active                   Procï¿½dure nationale   \n",
       " \n",
       "   commercialisation_state    date_AMM                                 owner  \\\n",
       " 0        Commercialisï¿½e  28/10/2010              ACCORD HEALTHCARE FRANCE   \n",
       " 1        Commercialisï¿½e  28/10/2010              ACCORD HEALTHCARE FRANCE   \n",
       " 2        Commercialisï¿½e  06/01/2006                                CHIESI   \n",
       " 3        Commercialisï¿½e  06/12/1996                            TEVA SANTE   \n",
       " 4        Commercialisï¿½e  07/09/2009   EG LABO - LABORATOIRES EUROGENERICS   \n",
       " \n",
       "   enhanced_surveillance                             description_medication  \\\n",
       " 0                   Non  plaquette(s) PVC PVDC aluminium de 30 comprimé(s)   \n",
       " 1                   Non  plaquette(s) PVC PVDC aluminium de 90 comprimé(s)   \n",
       " 2                   Non  20 récipient(s) unidose(s) polyéthylène de 2 m...   \n",
       " 3                   Non  plaquette(s) thermoformée(s) PVC aluminium de ...   \n",
       " 4                   Non  plaquette(s) opaque(s) PVC-Aluminium de 30 com...   \n",
       " \n",
       "   date_declaration_commercialisation reimbursement_rate_per_medication  \\\n",
       " 0                         16/03/2011                              100%   \n",
       " 1                         19/09/2011                              100%   \n",
       " 2                         30/11/2006                               65%   \n",
       " 3                         11/06/2003                               65%   \n",
       " 4                         12/12/2011                               65%   \n",
       " \n",
       "   price_medication  \n",
       " 0            30,36  \n",
       " 1            85,74  \n",
       " 2            16,77  \n",
       " 3             1,54  \n",
       " 4             8,88  )"
      ]
     },
     "execution_count": 20,
     "metadata": {},
     "output_type": "execute_result"
    }
   ],
   "source": [
    "# I need to create a table with the following columns :\n",
    "### - CIP13 : primary key\n",
    "### - name_medication\n",
    "# - pharmaceutical_form\n",
    "# - methods_of_administration\n",
    "# - statut_amm\n",
    "# - procedure_type_amm\n",
    "### - commercialisation_state\n",
    "# - date_AMM\n",
    "### - statutBdm\n",
    "# - european_authorization_number\n",
    "### - owner\n",
    "### - enhanced_surveillance\n",
    "# - description_medication\n",
    "# - commercialisation_state_by_owner\n",
    "### - date_declaration_commercialisation\n",
    "### - reimbursement_rate_per_medication\n",
    "### - price_medication\n",
    "# - reimbursement_base_2022\n",
    "# - nb_boxes_reimbursed_2022\n",
    "# - reimbursed_amount_2022\n",
    "\n",
    "master_dataframe_unique = master_dataframe.drop_duplicates(subset=['CIP13'])\n",
    "\n",
    "\n",
    "medication_presentation = pd.merge(master_cis_files[['CIP13','name_medication','pharmaceutical_form','methods_of_administration','statut_amm','procedure_type_amm','commercialisation_state','date_AMM','owner','enhanced_surveillance','description_medication','date_declaration_commercialisation','reimbursement_rate_per_medication','price_medication']], \n",
    "                      master_dataframe_unique['CIP13'], \n",
    "                      on='CIP13', \n",
    "                      how='inner')\n",
    "\n",
    "# medication_presentation = master_cis_files[['CIP13','name_medication','pharmaceutical_form','methods_of_administration','statut_amm','procedure_type_amm','commercialisation_state','date_AMM ','statutBdm ','owner','enhanced_surveillance','description_medication','date_declaration_commercialisation','reimbursement_rate_per_medication','price_medication']].copy()\n",
    "medication_presentation.shape,medication_presentation.head()\n"
   ]
  },
  {
   "cell_type": "markdown",
   "metadata": {},
   "source": [
    "## `Global_expenses`"
   ]
  },
  {
   "cell_type": "code",
   "execution_count": 21,
   "metadata": {},
   "outputs": [
    {
     "data": {
      "text/plain": [
       "((12174, 6),\n",
       "            CIP13  reimbursement_base_2022  nb_boxes_reimbursed_2022  \\\n",
       " 0  3400921604696                353956.43                     96127   \n",
       " 1  3400921609080              16032399.34                     25220   \n",
       " 2  3400921610550                 55389.28                     20437   \n",
       " 3  3400921610840                160428.96                     26086   \n",
       " 4  3400921611731                306520.92                     89626   \n",
       " \n",
       "    reimbursed_amount_2022                                    name_medication  \\\n",
       " 0            2.450826e+05              YELLOX 0,9 mg/ml, collyre en solution   \n",
       " 1            1.588837e+07  AVONEX 30 microgrammes/0,5 ml, solution inject...   \n",
       " 2            9.807795e+03                  POLYGYNAX VIRGO, capsule vaginale   \n",
       " 3            1.573739e+05                NICORANDIL SANDOZ 20 mg, comprimï¿½   \n",
       " 4            2.974557e+05      NICORANDIL SANDOZ 10 mg, comprimï¿½ sï¿½cable   \n",
       " \n",
       "    global_expenses_id  \n",
       " 0                   0  \n",
       " 1                   1  \n",
       " 2                   2  \n",
       " 3                   3  \n",
       " 4                   4  )"
      ]
     },
     "execution_count": 21,
     "metadata": {},
     "output_type": "execute_result"
    }
   ],
   "source": [
    "# I need to create a table with the following columns :\n",
    "### - global_expenses_id: primary key\n",
    "### - CIP13 : foreign key\n",
    "# - name_medication\n",
    "# - reimbursement_base_2022\n",
    "# - nb_boxes_reimbursed_2022\n",
    "# - reimbursed_amount_2022\n",
    "\n",
    "\n",
    "global_expenses = pd.merge(MedicAM_2022_tous_presc[['CIP13','reimbursement_base_2022','nb_boxes_reimbursed_2022','reimbursed_amount_2022']], \n",
    "                      master_cis_files[['CIP13','name_medication']], \n",
    "                      on='CIP13', \n",
    "                      how='inner').merge(master_dataframe_unique['CIP13'], \n",
    "                                        on='CIP13', \n",
    "                                        how='inner')\n",
    "\n",
    "\n",
    "global_expenses['global_expenses_id'] = global_expenses.index\n",
    "\n",
    "global_expenses.shape,global_expenses.head()\n"
   ]
  },
  {
   "cell_type": "markdown",
   "metadata": {},
   "source": []
  },
  {
   "cell_type": "markdown",
   "metadata": {},
   "source": [
    "## `Generic_group`"
   ]
  },
  {
   "cell_type": "code",
   "execution_count": 22,
   "metadata": {},
   "outputs": [
    {
     "data": {
      "text/plain": [
       "((12174, 4),\n",
       "            CIP13  GEN_NUM  TOP_GEN  generic_group_id\n",
       " 0  3400931911999        0        0                 0\n",
       " 1  3400932409860        0        0                 1\n",
       " 2  3400932742417        0        0                 2\n",
       " 3  3400934089480        0        0                 3\n",
       " 4  3400934780509        0        0                 4)"
      ]
     },
     "execution_count": 22,
     "metadata": {},
     "output_type": "execute_result"
    }
   ],
   "source": [
    "# I need to create a table with the following columns :\n",
    "### - generic_group_id: primary key\n",
    "### - CIP13 : foreign key\n",
    "# - GEN_NUM\n",
    "# - TOP_GEN\n",
    "\n",
    "openMedic_unique = openMedic.drop_duplicates(subset=['CIP13'])\n",
    "\n",
    "\n",
    "generic_group = pd.merge(openMedic_unique[['CIP13','GEN_NUM','TOP_GEN']],\n",
    "                      master_dataframe_unique['CIP13'], \n",
    "                      on='CIP13', \n",
    "                      how='inner').merge(master_cis_files[['CIP13']],on='CIP13',how='inner')\n",
    "\n",
    "\n",
    "\n",
    "generic_group['generic_group_id'] = generic_group.index\n",
    "generic_group.shape,generic_group.head()"
   ]
  },
  {
   "cell_type": "code",
   "execution_count": 23,
   "metadata": {},
   "outputs": [],
   "source": [
    "tables = {\n",
    "    'beneficiary': beneficiary,\n",
    "    'medication_specialisation': medication_specialisation,\n",
    "    'medication_presentation': medication_presentation,\n",
    "    'global_expenses': global_expenses,\n",
    "    'generic_group': generic_group\n",
    "}"
   ]
  },
  {
   "cell_type": "code",
   "execution_count": 24,
   "metadata": {},
   "outputs": [],
   "source": [
    "for name, table in tables.items():\n",
    "    if 'master_key' in table.columns: \n",
    "        table.drop(columns=['master_key'],inplace=True)"
   ]
  },
  {
   "cell_type": "code",
   "execution_count": 25,
   "metadata": {},
   "outputs": [
    {
     "name": "stdout",
     "output_type": "stream",
     "text": [
      "beneficiary (1873493, 4)\n",
      "medication_specialisation (1873493, 15)\n",
      "medication_presentation (12174, 14)\n",
      "global_expenses (12174, 6)\n",
      "generic_group (12174, 4)\n"
     ]
    }
   ],
   "source": [
    "for name, table in tables.items():\n",
    "    print(name,table.shape)\n"
   ]
  },
  {
   "cell_type": "code",
   "execution_count": 26,
   "metadata": {},
   "outputs": [
    {
     "name": "stdout",
     "output_type": "stream",
     "text": [
      "beneficiary \n",
      " Index(['region_of_residence', 'age', 'sexe', 'beneficiary_id'], dtype='object') \n",
      " region_of_residence    int64\n",
      "age                    int64\n",
      "sexe                   int64\n",
      "beneficiary_id         int64\n",
      "dtype: object\n",
      "-------------------------------------------------------------------------------- \n",
      "\n",
      "medication_specialisation \n",
      " Index(['beneficiary_id', 'CIP13', 'ATC1', 'ATC2', 'ATC3', 'ATC4', 'ATC5',\n",
      "       'l_ATC1', 'L_ATC2', 'L_ATC3', 'L_ATC4', 'L_ATC5', 'prescriber',\n",
      "       'number_of_boxes_delivered_per_client', 'medicament_specialisation_id'],\n",
      "      dtype='object') \n",
      " beneficiary_id                           int64\n",
      "CIP13                                   object\n",
      "ATC1                                    object\n",
      "ATC2                                    object\n",
      "ATC3                                    object\n",
      "ATC4                                    object\n",
      "ATC5                                    object\n",
      "l_ATC1                                  object\n",
      "L_ATC2                                  object\n",
      "L_ATC3                                  object\n",
      "L_ATC4                                  object\n",
      "L_ATC5                                  object\n",
      "prescriber                               int64\n",
      "number_of_boxes_delivered_per_client     int64\n",
      "medicament_specialisation_id             int64\n",
      "dtype: object\n",
      "-------------------------------------------------------------------------------- \n",
      "\n",
      "medication_presentation \n",
      " Index(['CIP13', 'name_medication', 'pharmaceutical_form',\n",
      "       'methods_of_administration', 'statut_amm', 'procedure_type_amm',\n",
      "       'commercialisation_state', 'date_AMM', 'owner', 'enhanced_surveillance',\n",
      "       'description_medication', 'date_declaration_commercialisation',\n",
      "       'reimbursement_rate_per_medication', 'price_medication'],\n",
      "      dtype='object') \n",
      " CIP13                                 object\n",
      "name_medication                       object\n",
      "pharmaceutical_form                   object\n",
      "methods_of_administration             object\n",
      "statut_amm                            object\n",
      "procedure_type_amm                    object\n",
      "commercialisation_state               object\n",
      "date_AMM                              object\n",
      "owner                                 object\n",
      "enhanced_surveillance                 object\n",
      "description_medication                object\n",
      "date_declaration_commercialisation    object\n",
      "reimbursement_rate_per_medication     object\n",
      "price_medication                      object\n",
      "dtype: object\n",
      "-------------------------------------------------------------------------------- \n",
      "\n",
      "global_expenses \n",
      " Index(['CIP13', 'reimbursement_base_2022', 'nb_boxes_reimbursed_2022',\n",
      "       'reimbursed_amount_2022', 'name_medication', 'global_expenses_id'],\n",
      "      dtype='object') \n",
      " CIP13                        object\n",
      "reimbursement_base_2022     float64\n",
      "nb_boxes_reimbursed_2022      int64\n",
      "reimbursed_amount_2022      float64\n",
      "name_medication              object\n",
      "global_expenses_id            int64\n",
      "dtype: object\n",
      "-------------------------------------------------------------------------------- \n",
      "\n",
      "generic_group \n",
      " Index(['CIP13', 'GEN_NUM', 'TOP_GEN', 'generic_group_id'], dtype='object') \n",
      " CIP13               object\n",
      "GEN_NUM              int64\n",
      "TOP_GEN              int64\n",
      "generic_group_id     int64\n",
      "dtype: object\n",
      "-------------------------------------------------------------------------------- \n",
      "\n"
     ]
    }
   ],
   "source": [
    "for name, table in tables.items():\n",
    "    print(name, '\\n',table.columns,'\\n',table.dtypes)\n",
    "    print('--------'*10,'\\n')"
   ]
  },
  {
   "cell_type": "markdown",
   "metadata": {},
   "source": [
    "We now have all our usefull data. We will then preprocess them before storing into the database."
   ]
  },
  {
   "cell_type": "markdown",
   "metadata": {},
   "source": [
    "## Preprocessing"
   ]
  },
  {
   "cell_type": "markdown",
   "metadata": {},
   "source": [
    "1. Handle Missing Values\n",
    "\n",
    "2. Data Type Conversion\n",
    "\n",
    "\n",
    "\n",
    "Finally, store the preprocessed DataFrame into the database\n"
   ]
  },
  {
   "cell_type": "markdown",
   "metadata": {},
   "source": [
    "First we will handle missing values."
   ]
  },
  {
   "cell_type": "code",
   "execution_count": 27,
   "metadata": {},
   "outputs": [
    {
     "name": "stdout",
     "output_type": "stream",
     "text": [
      "region_of_residence    0\n",
      "age                    0\n",
      "sexe                   0\n",
      "beneficiary_id         0\n",
      "dtype: int64\n",
      "beneficiary_id                             0\n",
      "CIP13                                      0\n",
      "ATC1                                       0\n",
      "ATC2                                       0\n",
      "ATC3                                       0\n",
      "ATC4                                       0\n",
      "ATC5                                       0\n",
      "l_ATC1                                     0\n",
      "L_ATC2                                    18\n",
      "L_ATC3                                     0\n",
      "L_ATC4                                  5165\n",
      "L_ATC5                                     0\n",
      "prescriber                                 0\n",
      "number_of_boxes_delivered_per_client       0\n",
      "medicament_specialisation_id               0\n",
      "dtype: int64\n",
      "CIP13                                   0\n",
      "name_medication                         0\n",
      "pharmaceutical_form                     0\n",
      "methods_of_administration               0\n",
      "statut_amm                              0\n",
      "procedure_type_amm                      0\n",
      "commercialisation_state                 0\n",
      "date_AMM                                0\n",
      "owner                                   0\n",
      "enhanced_surveillance                   0\n",
      "description_medication                  0\n",
      "date_declaration_commercialisation      0\n",
      "reimbursement_rate_per_medication     243\n",
      "price_medication                      243\n",
      "dtype: int64\n",
      "CIP13                       0\n",
      "reimbursement_base_2022     0\n",
      "nb_boxes_reimbursed_2022    0\n",
      "reimbursed_amount_2022      0\n",
      "name_medication             0\n",
      "global_expenses_id          0\n",
      "dtype: int64\n",
      "CIP13               0\n",
      "GEN_NUM             0\n",
      "TOP_GEN             0\n",
      "generic_group_id    0\n",
      "dtype: int64\n"
     ]
    }
   ],
   "source": [
    "for name, table in tables.items():\n",
    "    print(table.isna().sum()) \n",
    "    table.fillna(0, inplace=True)  # Fill missing numerical values with 0"
   ]
  },
  {
   "cell_type": "code",
   "execution_count": 28,
   "metadata": {},
   "outputs": [],
   "source": [
    "for name, table in tables.items():    # Select columns of type 'object'\n",
    "    object_columns = table.select_dtypes(include=['object'])\n",
    "    \n",
    "    # Convert values in object columns to lowercase\n",
    "    table[object_columns.columns] = object_columns.map(lambda x: x.lower() if isinstance(x, str) else x)\n",
    "\n",
    "    # Update the DataFrame in the tables dictionary\n",
    "    tables[name] = table"
   ]
  },
  {
   "cell_type": "markdown",
   "metadata": {},
   "source": [
    "Here we lowercase all str instances in our tables."
   ]
  },
  {
   "cell_type": "markdown",
   "metadata": {},
   "source": [
    "#### `beneficiary`"
   ]
  },
  {
   "cell_type": "code",
   "execution_count": 29,
   "metadata": {},
   "outputs": [
    {
     "name": "stdout",
     "output_type": "stream",
     "text": [
      "<class 'pandas.core.frame.DataFrame'>\n",
      "RangeIndex: 1873493 entries, 0 to 1873492\n",
      "Data columns (total 4 columns):\n",
      " #   Column               Dtype\n",
      "---  ------               -----\n",
      " 0   region_of_residence  int64\n",
      " 1   age                  int64\n",
      " 2   sexe                 int64\n",
      " 3   beneficiary_id       int64\n",
      "dtypes: int64(4)\n",
      "memory usage: 57.2 MB\n",
      "None\n"
     ]
    },
    {
     "data": {
      "text/plain": [
       "(   region_of_residence  age  sexe  beneficiary_id\n",
       " 0                    5    4     1               0\n",
       " 1                   11    1     1               1\n",
       " 2                   44    9     1               2\n",
       " 3                   84    8     1               3\n",
       " 4                   99    8     1               4,\n",
       " None)"
      ]
     },
     "execution_count": 29,
     "metadata": {},
     "output_type": "execute_result"
    }
   ],
   "source": [
    "tables['beneficiary'].head(n=5), print(tables['beneficiary'].info())"
   ]
  },
  {
   "cell_type": "markdown",
   "metadata": {},
   "source": [
    "- For the `beneficiary` table we have only values of type int so we do not have to make any preprocessing"
   ]
  },
  {
   "cell_type": "markdown",
   "metadata": {},
   "source": [
    "#### `medication_specialisation`"
   ]
  },
  {
   "cell_type": "code",
   "execution_count": 30,
   "metadata": {},
   "outputs": [
    {
     "name": "stdout",
     "output_type": "stream",
     "text": [
      "<class 'pandas.core.frame.DataFrame'>\n",
      "RangeIndex: 1873493 entries, 0 to 1873492\n",
      "Data columns (total 15 columns):\n",
      " #   Column                                Dtype \n",
      "---  ------                                ----- \n",
      " 0   beneficiary_id                        int64 \n",
      " 1   CIP13                                 int64 \n",
      " 2   ATC1                                  object\n",
      " 3   ATC2                                  object\n",
      " 4   ATC3                                  object\n",
      " 5   ATC4                                  object\n",
      " 6   ATC5                                  object\n",
      " 7   l_ATC1                                object\n",
      " 8   L_ATC2                                object\n",
      " 9   L_ATC3                                object\n",
      " 10  L_ATC4                                object\n",
      " 11  L_ATC5                                object\n",
      " 12  prescriber                            int64 \n",
      " 13  number_of_boxes_delivered_per_client  int64 \n",
      " 14  medicament_specialisation_id          int64 \n",
      "dtypes: int64(5), object(10)\n",
      "memory usage: 214.4+ MB\n",
      "None\n"
     ]
    }
   ],
   "source": [
    "print(tables['medication_specialisation'].info())"
   ]
  },
  {
   "cell_type": "markdown",
   "metadata": {},
   "source": [
    "We can see that we have int and object type for this table. Object type representing string."
   ]
  },
  {
   "cell_type": "code",
   "execution_count": 31,
   "metadata": {},
   "outputs": [
    {
     "name": "stdout",
     "output_type": "stream",
     "text": [
      "<class 'pandas.core.frame.DataFrame'>\n",
      "RangeIndex: 1873493 entries, 0 to 1873492\n",
      "Data columns (total 10 columns):\n",
      " #   Column  Dtype \n",
      "---  ------  ----- \n",
      " 0   ATC1    object\n",
      " 1   ATC2    object\n",
      " 2   ATC3    object\n",
      " 3   ATC4    object\n",
      " 4   ATC5    object\n",
      " 5   l_ATC1  object\n",
      " 6   L_ATC2  object\n",
      " 7   L_ATC3  object\n",
      " 8   L_ATC4  object\n",
      " 9   L_ATC5  object\n",
      "dtypes: object(10)\n",
      "memory usage: 142.9+ MB\n",
      "None\n"
     ]
    }
   ],
   "source": [
    "# Get columns with data type 'object'\n",
    "object_columns = tables['medication_specialisation'].select_dtypes(include=['object'])\n",
    "\n",
    "# Print information about these columns\n",
    "print(object_columns.info())"
   ]
  },
  {
   "cell_type": "markdown",
   "metadata": {},
   "source": [
    "Now let dive a bit into this features to see how we can preprocess them."
   ]
  },
  {
   "cell_type": "code",
   "execution_count": 32,
   "metadata": {},
   "outputs": [
    {
     "data": {
      "text/html": [
       "<div>\n",
       "<style scoped>\n",
       "    .dataframe tbody tr th:only-of-type {\n",
       "        vertical-align: middle;\n",
       "    }\n",
       "\n",
       "    .dataframe tbody tr th {\n",
       "        vertical-align: top;\n",
       "    }\n",
       "\n",
       "    .dataframe thead th {\n",
       "        text-align: right;\n",
       "    }\n",
       "</style>\n",
       "<table border=\"1\" class=\"dataframe\">\n",
       "  <thead>\n",
       "    <tr style=\"text-align: right;\">\n",
       "      <th></th>\n",
       "      <th>beneficiary_id</th>\n",
       "      <th>CIP13</th>\n",
       "      <th>ATC1</th>\n",
       "      <th>ATC2</th>\n",
       "      <th>ATC3</th>\n",
       "      <th>ATC4</th>\n",
       "      <th>ATC5</th>\n",
       "      <th>l_ATC1</th>\n",
       "      <th>L_ATC2</th>\n",
       "      <th>L_ATC3</th>\n",
       "      <th>L_ATC4</th>\n",
       "      <th>L_ATC5</th>\n",
       "      <th>prescriber</th>\n",
       "      <th>number_of_boxes_delivered_per_client</th>\n",
       "      <th>medicament_specialisation_id</th>\n",
       "    </tr>\n",
       "  </thead>\n",
       "  <tbody>\n",
       "    <tr>\n",
       "      <th>0</th>\n",
       "      <td>0</td>\n",
       "      <td>3400931911999</td>\n",
       "      <td>a</td>\n",
       "      <td>a01</td>\n",
       "      <td>a01a</td>\n",
       "      <td>a01aa</td>\n",
       "      <td>a01aa01</td>\n",
       "      <td>systeme digestif et metabolisme</td>\n",
       "      <td>preparations stomatologiques</td>\n",
       "      <td>preparations stomatologiques</td>\n",
       "      <td>medicaments prophylactiques anticaries</td>\n",
       "      <td>sodium fluorure</td>\n",
       "      <td>99</td>\n",
       "      <td>17</td>\n",
       "      <td>0</td>\n",
       "    </tr>\n",
       "    <tr>\n",
       "      <th>1</th>\n",
       "      <td>1</td>\n",
       "      <td>3400931911999</td>\n",
       "      <td>a</td>\n",
       "      <td>a01</td>\n",
       "      <td>a01a</td>\n",
       "      <td>a01aa</td>\n",
       "      <td>a01aa01</td>\n",
       "      <td>systeme digestif et metabolisme</td>\n",
       "      <td>preparations stomatologiques</td>\n",
       "      <td>preparations stomatologiques</td>\n",
       "      <td>medicaments prophylactiques anticaries</td>\n",
       "      <td>sodium fluorure</td>\n",
       "      <td>99</td>\n",
       "      <td>24</td>\n",
       "      <td>1</td>\n",
       "    </tr>\n",
       "    <tr>\n",
       "      <th>2</th>\n",
       "      <td>2</td>\n",
       "      <td>3400931911999</td>\n",
       "      <td>a</td>\n",
       "      <td>a01</td>\n",
       "      <td>a01a</td>\n",
       "      <td>a01aa</td>\n",
       "      <td>a01aa01</td>\n",
       "      <td>systeme digestif et metabolisme</td>\n",
       "      <td>preparations stomatologiques</td>\n",
       "      <td>preparations stomatologiques</td>\n",
       "      <td>medicaments prophylactiques anticaries</td>\n",
       "      <td>sodium fluorure</td>\n",
       "      <td>99</td>\n",
       "      <td>20</td>\n",
       "      <td>2</td>\n",
       "    </tr>\n",
       "    <tr>\n",
       "      <th>3</th>\n",
       "      <td>3</td>\n",
       "      <td>3400931911999</td>\n",
       "      <td>a</td>\n",
       "      <td>a01</td>\n",
       "      <td>a01a</td>\n",
       "      <td>a01aa</td>\n",
       "      <td>a01aa01</td>\n",
       "      <td>systeme digestif et metabolisme</td>\n",
       "      <td>preparations stomatologiques</td>\n",
       "      <td>preparations stomatologiques</td>\n",
       "      <td>medicaments prophylactiques anticaries</td>\n",
       "      <td>sodium fluorure</td>\n",
       "      <td>99</td>\n",
       "      <td>13</td>\n",
       "      <td>3</td>\n",
       "    </tr>\n",
       "    <tr>\n",
       "      <th>4</th>\n",
       "      <td>4</td>\n",
       "      <td>3400931911999</td>\n",
       "      <td>a</td>\n",
       "      <td>a01</td>\n",
       "      <td>a01a</td>\n",
       "      <td>a01aa</td>\n",
       "      <td>a01aa01</td>\n",
       "      <td>systeme digestif et metabolisme</td>\n",
       "      <td>preparations stomatologiques</td>\n",
       "      <td>preparations stomatologiques</td>\n",
       "      <td>medicaments prophylactiques anticaries</td>\n",
       "      <td>sodium fluorure</td>\n",
       "      <td>1</td>\n",
       "      <td>14</td>\n",
       "      <td>4</td>\n",
       "    </tr>\n",
       "  </tbody>\n",
       "</table>\n",
       "</div>"
      ],
      "text/plain": [
       "   beneficiary_id          CIP13 ATC1 ATC2  ATC3   ATC4     ATC5  \\\n",
       "0               0  3400931911999    a  a01  a01a  a01aa  a01aa01   \n",
       "1               1  3400931911999    a  a01  a01a  a01aa  a01aa01   \n",
       "2               2  3400931911999    a  a01  a01a  a01aa  a01aa01   \n",
       "3               3  3400931911999    a  a01  a01a  a01aa  a01aa01   \n",
       "4               4  3400931911999    a  a01  a01a  a01aa  a01aa01   \n",
       "\n",
       "                            l_ATC1                        L_ATC2  \\\n",
       "0  systeme digestif et metabolisme  preparations stomatologiques   \n",
       "1  systeme digestif et metabolisme  preparations stomatologiques   \n",
       "2  systeme digestif et metabolisme  preparations stomatologiques   \n",
       "3  systeme digestif et metabolisme  preparations stomatologiques   \n",
       "4  systeme digestif et metabolisme  preparations stomatologiques   \n",
       "\n",
       "                         L_ATC3                                  L_ATC4  \\\n",
       "0  preparations stomatologiques  medicaments prophylactiques anticaries   \n",
       "1  preparations stomatologiques  medicaments prophylactiques anticaries   \n",
       "2  preparations stomatologiques  medicaments prophylactiques anticaries   \n",
       "3  preparations stomatologiques  medicaments prophylactiques anticaries   \n",
       "4  preparations stomatologiques  medicaments prophylactiques anticaries   \n",
       "\n",
       "            L_ATC5  prescriber  number_of_boxes_delivered_per_client  \\\n",
       "0  sodium fluorure          99                                    17   \n",
       "1  sodium fluorure          99                                    24   \n",
       "2  sodium fluorure          99                                    20   \n",
       "3  sodium fluorure          99                                    13   \n",
       "4  sodium fluorure           1                                    14   \n",
       "\n",
       "   medicament_specialisation_id  \n",
       "0                             0  \n",
       "1                             1  \n",
       "2                             2  \n",
       "3                             3  \n",
       "4                             4  "
      ]
     },
     "execution_count": 32,
     "metadata": {},
     "output_type": "execute_result"
    }
   ],
   "source": [
    "tables['medication_specialisation'].head(n=5)"
   ]
  },
  {
   "cell_type": "markdown",
   "metadata": {},
   "source": [
    "#### `medication_presentation`\n"
   ]
  },
  {
   "cell_type": "code",
   "execution_count": 33,
   "metadata": {},
   "outputs": [
    {
     "name": "stdout",
     "output_type": "stream",
     "text": [
      "<class 'pandas.core.frame.DataFrame'>\n",
      "RangeIndex: 12174 entries, 0 to 12173\n",
      "Data columns (total 14 columns):\n",
      " #   Column                              Non-Null Count  Dtype \n",
      "---  ------                              --------------  ----- \n",
      " 0   CIP13                               12174 non-null  int64 \n",
      " 1   name_medication                     12174 non-null  object\n",
      " 2   pharmaceutical_form                 12174 non-null  object\n",
      " 3   methods_of_administration           12174 non-null  object\n",
      " 4   statut_amm                          12174 non-null  object\n",
      " 5   procedure_type_amm                  12174 non-null  object\n",
      " 6   commercialisation_state             12174 non-null  object\n",
      " 7   date_AMM                            12174 non-null  object\n",
      " 8   owner                               12174 non-null  object\n",
      " 9   enhanced_surveillance               12174 non-null  object\n",
      " 10  description_medication              12174 non-null  object\n",
      " 11  date_declaration_commercialisation  12174 non-null  object\n",
      " 12  reimbursement_rate_per_medication   12174 non-null  object\n",
      " 13  price_medication                    12174 non-null  object\n",
      "dtypes: int64(1), object(13)\n",
      "memory usage: 1.3+ MB\n",
      "None\n"
     ]
    }
   ],
   "source": [
    "print(tables['medication_presentation'].info())\n"
   ]
  },
  {
   "cell_type": "code",
   "execution_count": 34,
   "metadata": {},
   "outputs": [
    {
     "name": "stdout",
     "output_type": "stream",
     "text": [
      "<class 'pandas.core.frame.DataFrame'>\n",
      "RangeIndex: 12174 entries, 0 to 12173\n",
      "Data columns (total 13 columns):\n",
      " #   Column                              Non-Null Count  Dtype \n",
      "---  ------                              --------------  ----- \n",
      " 0   name_medication                     12174 non-null  object\n",
      " 1   pharmaceutical_form                 12174 non-null  object\n",
      " 2   methods_of_administration           12174 non-null  object\n",
      " 3   statut_amm                          12174 non-null  object\n",
      " 4   procedure_type_amm                  12174 non-null  object\n",
      " 5   commercialisation_state             12174 non-null  object\n",
      " 6   date_AMM                            12174 non-null  object\n",
      " 7   owner                               12174 non-null  object\n",
      " 8   enhanced_surveillance               12174 non-null  object\n",
      " 9   description_medication              12174 non-null  object\n",
      " 10  date_declaration_commercialisation  12174 non-null  object\n",
      " 11  reimbursement_rate_per_medication   12174 non-null  object\n",
      " 12  price_medication                    12174 non-null  object\n",
      "dtypes: object(13)\n",
      "memory usage: 1.2+ MB\n",
      "None\n"
     ]
    }
   ],
   "source": [
    "# Get columns with data type 'object'\n",
    "object_columns = tables['medication_presentation'].select_dtypes(include=['object'])\n",
    "\n",
    "# Print information about these columns\n",
    "print(object_columns.info())"
   ]
  },
  {
   "cell_type": "code",
   "execution_count": 35,
   "metadata": {},
   "outputs": [
    {
     "data": {
      "text/html": [
       "<div>\n",
       "<style scoped>\n",
       "    .dataframe tbody tr th:only-of-type {\n",
       "        vertical-align: middle;\n",
       "    }\n",
       "\n",
       "    .dataframe tbody tr th {\n",
       "        vertical-align: top;\n",
       "    }\n",
       "\n",
       "    .dataframe thead th {\n",
       "        text-align: right;\n",
       "    }\n",
       "</style>\n",
       "<table border=\"1\" class=\"dataframe\">\n",
       "  <thead>\n",
       "    <tr style=\"text-align: right;\">\n",
       "      <th></th>\n",
       "      <th>CIP13</th>\n",
       "      <th>name_medication</th>\n",
       "      <th>pharmaceutical_form</th>\n",
       "      <th>methods_of_administration</th>\n",
       "      <th>statut_amm</th>\n",
       "      <th>procedure_type_amm</th>\n",
       "      <th>commercialisation_state</th>\n",
       "      <th>date_AMM</th>\n",
       "      <th>owner</th>\n",
       "      <th>enhanced_surveillance</th>\n",
       "      <th>description_medication</th>\n",
       "      <th>date_declaration_commercialisation</th>\n",
       "      <th>reimbursement_rate_per_medication</th>\n",
       "      <th>price_medication</th>\n",
       "    </tr>\n",
       "  </thead>\n",
       "  <tbody>\n",
       "    <tr>\n",
       "      <th>0</th>\n",
       "      <td>3400949497294</td>\n",
       "      <td>anastrozole accord 1 mg, comprimï¿½ pelliculï¿½</td>\n",
       "      <td>comprimï¿½ pelliculï¿½</td>\n",
       "      <td>orale</td>\n",
       "      <td>autorisation active</td>\n",
       "      <td>procï¿½dure de reconnaissance mutuelle</td>\n",
       "      <td>commercialisï¿½e</td>\n",
       "      <td>28/10/2010</td>\n",
       "      <td>accord healthcare france</td>\n",
       "      <td>non</td>\n",
       "      <td>plaquette(s) pvc pvdc aluminium de 30 comprimé(s)</td>\n",
       "      <td>16/03/2011</td>\n",
       "      <td>100%</td>\n",
       "      <td>30,36</td>\n",
       "    </tr>\n",
       "    <tr>\n",
       "      <th>1</th>\n",
       "      <td>3400949497706</td>\n",
       "      <td>anastrozole accord 1 mg, comprimï¿½ pelliculï¿½</td>\n",
       "      <td>comprimï¿½ pelliculï¿½</td>\n",
       "      <td>orale</td>\n",
       "      <td>autorisation active</td>\n",
       "      <td>procï¿½dure de reconnaissance mutuelle</td>\n",
       "      <td>commercialisï¿½e</td>\n",
       "      <td>28/10/2010</td>\n",
       "      <td>accord healthcare france</td>\n",
       "      <td>non</td>\n",
       "      <td>plaquette(s) pvc pvdc aluminium de 90 comprimé(s)</td>\n",
       "      <td>19/09/2011</td>\n",
       "      <td>100%</td>\n",
       "      <td>85,74</td>\n",
       "    </tr>\n",
       "    <tr>\n",
       "      <th>2</th>\n",
       "      <td>3400936963504</td>\n",
       "      <td>beclospin 800 microgrammes/2ml suspension pour...</td>\n",
       "      <td>suspension pour inhalation par nï¿½buliseur</td>\n",
       "      <td>inhalï¿½e</td>\n",
       "      <td>autorisation active</td>\n",
       "      <td>procï¿½dure de reconnaissance mutuelle</td>\n",
       "      <td>commercialisï¿½e</td>\n",
       "      <td>06/01/2006</td>\n",
       "      <td>chiesi</td>\n",
       "      <td>non</td>\n",
       "      <td>20 récipient(s) unidose(s) polyéthylène de 2 m...</td>\n",
       "      <td>30/11/2006</td>\n",
       "      <td>65%</td>\n",
       "      <td>16,77</td>\n",
       "    </tr>\n",
       "    <tr>\n",
       "      <th>3</th>\n",
       "      <td>3400936145825</td>\n",
       "      <td>fenofibrate teva 100 mg, gï¿½lule</td>\n",
       "      <td>gï¿½lule</td>\n",
       "      <td>orale</td>\n",
       "      <td>autorisation active</td>\n",
       "      <td>procï¿½dure nationale</td>\n",
       "      <td>commercialisï¿½e</td>\n",
       "      <td>06/12/1996</td>\n",
       "      <td>teva sante</td>\n",
       "      <td>non</td>\n",
       "      <td>plaquette(s) thermoformée(s) pvc aluminium de ...</td>\n",
       "      <td>11/06/2003</td>\n",
       "      <td>65%</td>\n",
       "      <td>1,54</td>\n",
       "    </tr>\n",
       "    <tr>\n",
       "      <th>4</th>\n",
       "      <td>3400939725192</td>\n",
       "      <td>tramadol eg l.p. 200 mg, comprimï¿½ ï¿½ libï¿½...</td>\n",
       "      <td>comprimï¿½ ï¿½ libï¿½ration prolongï¿½e</td>\n",
       "      <td>orale</td>\n",
       "      <td>autorisation active</td>\n",
       "      <td>procï¿½dure nationale</td>\n",
       "      <td>commercialisï¿½e</td>\n",
       "      <td>07/09/2009</td>\n",
       "      <td>eg labo - laboratoires eurogenerics</td>\n",
       "      <td>non</td>\n",
       "      <td>plaquette(s) opaque(s) pvc-aluminium de 30 com...</td>\n",
       "      <td>12/12/2011</td>\n",
       "      <td>65%</td>\n",
       "      <td>8,88</td>\n",
       "    </tr>\n",
       "  </tbody>\n",
       "</table>\n",
       "</div>"
      ],
      "text/plain": [
       "           CIP13                                    name_medication  \\\n",
       "0  3400949497294    anastrozole accord 1 mg, comprimï¿½ pelliculï¿½   \n",
       "1  3400949497706    anastrozole accord 1 mg, comprimï¿½ pelliculï¿½   \n",
       "2  3400936963504  beclospin 800 microgrammes/2ml suspension pour...   \n",
       "3  3400936145825                  fenofibrate teva 100 mg, gï¿½lule   \n",
       "4  3400939725192  tramadol eg l.p. 200 mg, comprimï¿½ ï¿½ libï¿½...   \n",
       "\n",
       "                           pharmaceutical_form methods_of_administration  \\\n",
       "0                       comprimï¿½ pelliculï¿½                     orale   \n",
       "1                       comprimï¿½ pelliculï¿½                     orale   \n",
       "2  suspension pour inhalation par nï¿½buliseur                 inhalï¿½e   \n",
       "3                                     gï¿½lule                     orale   \n",
       "4      comprimï¿½ ï¿½ libï¿½ration prolongï¿½e                     orale   \n",
       "\n",
       "            statut_amm                      procedure_type_amm  \\\n",
       "0  autorisation active  procï¿½dure de reconnaissance mutuelle   \n",
       "1  autorisation active  procï¿½dure de reconnaissance mutuelle   \n",
       "2  autorisation active  procï¿½dure de reconnaissance mutuelle   \n",
       "3  autorisation active                   procï¿½dure nationale   \n",
       "4  autorisation active                   procï¿½dure nationale   \n",
       "\n",
       "  commercialisation_state    date_AMM                                 owner  \\\n",
       "0        commercialisï¿½e  28/10/2010              accord healthcare france   \n",
       "1        commercialisï¿½e  28/10/2010              accord healthcare france   \n",
       "2        commercialisï¿½e  06/01/2006                                chiesi   \n",
       "3        commercialisï¿½e  06/12/1996                            teva sante   \n",
       "4        commercialisï¿½e  07/09/2009   eg labo - laboratoires eurogenerics   \n",
       "\n",
       "  enhanced_surveillance                             description_medication  \\\n",
       "0                   non  plaquette(s) pvc pvdc aluminium de 30 comprimé(s)   \n",
       "1                   non  plaquette(s) pvc pvdc aluminium de 90 comprimé(s)   \n",
       "2                   non  20 récipient(s) unidose(s) polyéthylène de 2 m...   \n",
       "3                   non  plaquette(s) thermoformée(s) pvc aluminium de ...   \n",
       "4                   non  plaquette(s) opaque(s) pvc-aluminium de 30 com...   \n",
       "\n",
       "  date_declaration_commercialisation reimbursement_rate_per_medication  \\\n",
       "0                         16/03/2011                              100%   \n",
       "1                         19/09/2011                              100%   \n",
       "2                         30/11/2006                               65%   \n",
       "3                         11/06/2003                               65%   \n",
       "4                         12/12/2011                               65%   \n",
       "\n",
       "  price_medication  \n",
       "0            30,36  \n",
       "1            85,74  \n",
       "2            16,77  \n",
       "3             1,54  \n",
       "4             8,88  "
      ]
     },
     "execution_count": 35,
     "metadata": {},
     "output_type": "execute_result"
    }
   ],
   "source": [
    "tables['medication_presentation'].head(n=5)"
   ]
  },
  {
   "cell_type": "markdown",
   "metadata": {},
   "source": [
    "We have some caracteres that we could not decode properly so we will handle this. Also we can see that reimbursement_rate_per_medication and price_medication are type object instead of being float. "
   ]
  },
  {
   "cell_type": "code",
   "execution_count": 36,
   "metadata": {},
   "outputs": [],
   "source": [
    "tables['medication_presentation'][['CIP13']] = tables['medication_presentation'][['CIP13']].astype(int)  # Convert beneficiary_id to int"
   ]
  },
  {
   "cell_type": "code",
   "execution_count": 37,
   "metadata": {},
   "outputs": [],
   "source": [
    "def string_pourcenatge_to_float(input_str):\n",
    "    # Replace ',' with '.'\n",
    "    if isinstance(input_str, str):\n",
    "        formatted_str = input_str.replace(',', '.').strip('%')\n",
    "\n",
    "        # Convert to float\n",
    "        result = float(formatted_str)\n",
    "\n",
    "        return result"
   ]
  },
  {
   "cell_type": "code",
   "execution_count": 38,
   "metadata": {},
   "outputs": [],
   "source": [
    "tables['medication_presentation']['reimbursement_rate_per_medication'] =tables['medication_presentation']['reimbursement_rate_per_medication'].apply(string_pourcenatge_to_float)"
   ]
  },
  {
   "cell_type": "code",
   "execution_count": 39,
   "metadata": {},
   "outputs": [],
   "source": [
    "def string_to_float(input_str):\n",
    "    # Replace ',' with '.'\n",
    "\n",
    "    if isinstance(input_str, str):\n",
    "        formatted_str = input_str.replace(',', '.')\n",
    "\n",
    "        # Check if the string contains a period\n",
    "        if '.' in formatted_str:\n",
    "            # Remove all '.' characters except the last one\n",
    "            formatted_str = formatted_str.replace('.', '', formatted_str.count('.') - 1)\n",
    "\n",
    "        # Convert to float\n",
    "        result = float(formatted_str)\n",
    "\n",
    "        return result\n"
   ]
  },
  {
   "cell_type": "code",
   "execution_count": 40,
   "metadata": {},
   "outputs": [],
   "source": [
    "\n",
    "tables['medication_presentation']['price_medication'] = tables['medication_presentation']['price_medication'].apply(string_to_float)"
   ]
  },
  {
   "cell_type": "code",
   "execution_count": 41,
   "metadata": {},
   "outputs": [],
   "source": [
    "tables['medication_presentation'][['price_medication','reimbursement_rate_per_medication']] = tables['medication_presentation'][['price_medication','reimbursement_rate_per_medication']].astype(float)  # Convert beneficiary_id to int"
   ]
  },
  {
   "cell_type": "code",
   "execution_count": 42,
   "metadata": {},
   "outputs": [
    {
     "name": "stdout",
     "output_type": "stream",
     "text": [
      "<class 'pandas.core.frame.DataFrame'>\n",
      "RangeIndex: 12174 entries, 0 to 12173\n",
      "Data columns (total 14 columns):\n",
      " #   Column                              Non-Null Count  Dtype  \n",
      "---  ------                              --------------  -----  \n",
      " 0   CIP13                               12174 non-null  int64  \n",
      " 1   name_medication                     12174 non-null  object \n",
      " 2   pharmaceutical_form                 12174 non-null  object \n",
      " 3   methods_of_administration           12174 non-null  object \n",
      " 4   statut_amm                          12174 non-null  object \n",
      " 5   procedure_type_amm                  12174 non-null  object \n",
      " 6   commercialisation_state             12174 non-null  object \n",
      " 7   date_AMM                            12174 non-null  object \n",
      " 8   owner                               12174 non-null  object \n",
      " 9   enhanced_surveillance               12174 non-null  object \n",
      " 10  description_medication              12174 non-null  object \n",
      " 11  date_declaration_commercialisation  12174 non-null  object \n",
      " 12  reimbursement_rate_per_medication   11931 non-null  float64\n",
      " 13  price_medication                    11931 non-null  float64\n",
      "dtypes: float64(2), int64(1), object(11)\n",
      "memory usage: 1.3+ MB\n",
      "None\n"
     ]
    }
   ],
   "source": [
    "print(tables['medication_presentation'].info())\n"
   ]
  },
  {
   "cell_type": "code",
   "execution_count": 43,
   "metadata": {},
   "outputs": [
    {
     "data": {
      "text/html": [
       "<div>\n",
       "<style scoped>\n",
       "    .dataframe tbody tr th:only-of-type {\n",
       "        vertical-align: middle;\n",
       "    }\n",
       "\n",
       "    .dataframe tbody tr th {\n",
       "        vertical-align: top;\n",
       "    }\n",
       "\n",
       "    .dataframe thead th {\n",
       "        text-align: right;\n",
       "    }\n",
       "</style>\n",
       "<table border=\"1\" class=\"dataframe\">\n",
       "  <thead>\n",
       "    <tr style=\"text-align: right;\">\n",
       "      <th></th>\n",
       "      <th>CIP13</th>\n",
       "      <th>name_medication</th>\n",
       "      <th>pharmaceutical_form</th>\n",
       "      <th>methods_of_administration</th>\n",
       "      <th>statut_amm</th>\n",
       "      <th>procedure_type_amm</th>\n",
       "      <th>commercialisation_state</th>\n",
       "      <th>date_AMM</th>\n",
       "      <th>owner</th>\n",
       "      <th>enhanced_surveillance</th>\n",
       "      <th>description_medication</th>\n",
       "      <th>date_declaration_commercialisation</th>\n",
       "      <th>reimbursement_rate_per_medication</th>\n",
       "      <th>price_medication</th>\n",
       "    </tr>\n",
       "  </thead>\n",
       "  <tbody>\n",
       "    <tr>\n",
       "      <th>0</th>\n",
       "      <td>3400949497294</td>\n",
       "      <td>anastrozole accord 1 mg, comprimï¿½ pelliculï¿½</td>\n",
       "      <td>comprimï¿½ pelliculï¿½</td>\n",
       "      <td>orale</td>\n",
       "      <td>autorisation active</td>\n",
       "      <td>procï¿½dure de reconnaissance mutuelle</td>\n",
       "      <td>commercialisï¿½e</td>\n",
       "      <td>28/10/2010</td>\n",
       "      <td>accord healthcare france</td>\n",
       "      <td>non</td>\n",
       "      <td>plaquette(s) pvc pvdc aluminium de 30 comprimé(s)</td>\n",
       "      <td>16/03/2011</td>\n",
       "      <td>100.0</td>\n",
       "      <td>30.36</td>\n",
       "    </tr>\n",
       "    <tr>\n",
       "      <th>1</th>\n",
       "      <td>3400949497706</td>\n",
       "      <td>anastrozole accord 1 mg, comprimï¿½ pelliculï¿½</td>\n",
       "      <td>comprimï¿½ pelliculï¿½</td>\n",
       "      <td>orale</td>\n",
       "      <td>autorisation active</td>\n",
       "      <td>procï¿½dure de reconnaissance mutuelle</td>\n",
       "      <td>commercialisï¿½e</td>\n",
       "      <td>28/10/2010</td>\n",
       "      <td>accord healthcare france</td>\n",
       "      <td>non</td>\n",
       "      <td>plaquette(s) pvc pvdc aluminium de 90 comprimé(s)</td>\n",
       "      <td>19/09/2011</td>\n",
       "      <td>100.0</td>\n",
       "      <td>85.74</td>\n",
       "    </tr>\n",
       "    <tr>\n",
       "      <th>2</th>\n",
       "      <td>3400936963504</td>\n",
       "      <td>beclospin 800 microgrammes/2ml suspension pour...</td>\n",
       "      <td>suspension pour inhalation par nï¿½buliseur</td>\n",
       "      <td>inhalï¿½e</td>\n",
       "      <td>autorisation active</td>\n",
       "      <td>procï¿½dure de reconnaissance mutuelle</td>\n",
       "      <td>commercialisï¿½e</td>\n",
       "      <td>06/01/2006</td>\n",
       "      <td>chiesi</td>\n",
       "      <td>non</td>\n",
       "      <td>20 récipient(s) unidose(s) polyéthylène de 2 m...</td>\n",
       "      <td>30/11/2006</td>\n",
       "      <td>65.0</td>\n",
       "      <td>16.77</td>\n",
       "    </tr>\n",
       "    <tr>\n",
       "      <th>3</th>\n",
       "      <td>3400936145825</td>\n",
       "      <td>fenofibrate teva 100 mg, gï¿½lule</td>\n",
       "      <td>gï¿½lule</td>\n",
       "      <td>orale</td>\n",
       "      <td>autorisation active</td>\n",
       "      <td>procï¿½dure nationale</td>\n",
       "      <td>commercialisï¿½e</td>\n",
       "      <td>06/12/1996</td>\n",
       "      <td>teva sante</td>\n",
       "      <td>non</td>\n",
       "      <td>plaquette(s) thermoformée(s) pvc aluminium de ...</td>\n",
       "      <td>11/06/2003</td>\n",
       "      <td>65.0</td>\n",
       "      <td>1.54</td>\n",
       "    </tr>\n",
       "    <tr>\n",
       "      <th>4</th>\n",
       "      <td>3400939725192</td>\n",
       "      <td>tramadol eg l.p. 200 mg, comprimï¿½ ï¿½ libï¿½...</td>\n",
       "      <td>comprimï¿½ ï¿½ libï¿½ration prolongï¿½e</td>\n",
       "      <td>orale</td>\n",
       "      <td>autorisation active</td>\n",
       "      <td>procï¿½dure nationale</td>\n",
       "      <td>commercialisï¿½e</td>\n",
       "      <td>07/09/2009</td>\n",
       "      <td>eg labo - laboratoires eurogenerics</td>\n",
       "      <td>non</td>\n",
       "      <td>plaquette(s) opaque(s) pvc-aluminium de 30 com...</td>\n",
       "      <td>12/12/2011</td>\n",
       "      <td>65.0</td>\n",
       "      <td>8.88</td>\n",
       "    </tr>\n",
       "  </tbody>\n",
       "</table>\n",
       "</div>"
      ],
      "text/plain": [
       "           CIP13                                    name_medication  \\\n",
       "0  3400949497294    anastrozole accord 1 mg, comprimï¿½ pelliculï¿½   \n",
       "1  3400949497706    anastrozole accord 1 mg, comprimï¿½ pelliculï¿½   \n",
       "2  3400936963504  beclospin 800 microgrammes/2ml suspension pour...   \n",
       "3  3400936145825                  fenofibrate teva 100 mg, gï¿½lule   \n",
       "4  3400939725192  tramadol eg l.p. 200 mg, comprimï¿½ ï¿½ libï¿½...   \n",
       "\n",
       "                           pharmaceutical_form methods_of_administration  \\\n",
       "0                       comprimï¿½ pelliculï¿½                     orale   \n",
       "1                       comprimï¿½ pelliculï¿½                     orale   \n",
       "2  suspension pour inhalation par nï¿½buliseur                 inhalï¿½e   \n",
       "3                                     gï¿½lule                     orale   \n",
       "4      comprimï¿½ ï¿½ libï¿½ration prolongï¿½e                     orale   \n",
       "\n",
       "            statut_amm                      procedure_type_amm  \\\n",
       "0  autorisation active  procï¿½dure de reconnaissance mutuelle   \n",
       "1  autorisation active  procï¿½dure de reconnaissance mutuelle   \n",
       "2  autorisation active  procï¿½dure de reconnaissance mutuelle   \n",
       "3  autorisation active                   procï¿½dure nationale   \n",
       "4  autorisation active                   procï¿½dure nationale   \n",
       "\n",
       "  commercialisation_state    date_AMM                                 owner  \\\n",
       "0        commercialisï¿½e  28/10/2010              accord healthcare france   \n",
       "1        commercialisï¿½e  28/10/2010              accord healthcare france   \n",
       "2        commercialisï¿½e  06/01/2006                                chiesi   \n",
       "3        commercialisï¿½e  06/12/1996                            teva sante   \n",
       "4        commercialisï¿½e  07/09/2009   eg labo - laboratoires eurogenerics   \n",
       "\n",
       "  enhanced_surveillance                             description_medication  \\\n",
       "0                   non  plaquette(s) pvc pvdc aluminium de 30 comprimé(s)   \n",
       "1                   non  plaquette(s) pvc pvdc aluminium de 90 comprimé(s)   \n",
       "2                   non  20 récipient(s) unidose(s) polyéthylène de 2 m...   \n",
       "3                   non  plaquette(s) thermoformée(s) pvc aluminium de ...   \n",
       "4                   non  plaquette(s) opaque(s) pvc-aluminium de 30 com...   \n",
       "\n",
       "  date_declaration_commercialisation  reimbursement_rate_per_medication  \\\n",
       "0                         16/03/2011                              100.0   \n",
       "1                         19/09/2011                              100.0   \n",
       "2                         30/11/2006                               65.0   \n",
       "3                         11/06/2003                               65.0   \n",
       "4                         12/12/2011                               65.0   \n",
       "\n",
       "   price_medication  \n",
       "0             30.36  \n",
       "1             85.74  \n",
       "2             16.77  \n",
       "3              1.54  \n",
       "4              8.88  "
      ]
     },
     "execution_count": 43,
     "metadata": {},
     "output_type": "execute_result"
    }
   ],
   "source": [
    "tables['medication_presentation'].head(n=5)"
   ]
  },
  {
   "cell_type": "code",
   "execution_count": 44,
   "metadata": {},
   "outputs": [
    {
     "name": "stderr",
     "output_type": "stream",
     "text": [
      "/var/folders/3j/0jwg1_4n3g7dtvqn4hk8cwy80000gn/T/ipykernel_36497/1131401778.py:6: UserWarning: Parsing dates in %d/%m/%Y format when dayfirst=False (the default) was specified. Pass `dayfirst=True` or specify a format to silence this warning.\n",
      "  tables['medication_presentation'][column] = pd.to_datetime(tables['medication_presentation'][column])\n",
      "/var/folders/3j/0jwg1_4n3g7dtvqn4hk8cwy80000gn/T/ipykernel_36497/1131401778.py:6: UserWarning: Parsing dates in %d/%m/%Y format when dayfirst=False (the default) was specified. Pass `dayfirst=True` or specify a format to silence this warning.\n",
      "  tables['medication_presentation'][column] = pd.to_datetime(tables['medication_presentation'][column])\n"
     ]
    }
   ],
   "source": [
    "# Example of date columns in the DataFrame\n",
    "date_columns = ['date_AMM', 'date_declaration_commercialisation']\n",
    "\n",
    "# Convert date columns to datetime data type\n",
    "for column in date_columns:\n",
    "    tables['medication_presentation'][column] = pd.to_datetime(tables['medication_presentation'][column])"
   ]
  },
  {
   "cell_type": "code",
   "execution_count": 45,
   "metadata": {},
   "outputs": [
    {
     "data": {
      "text/html": [
       "<div>\n",
       "<style scoped>\n",
       "    .dataframe tbody tr th:only-of-type {\n",
       "        vertical-align: middle;\n",
       "    }\n",
       "\n",
       "    .dataframe tbody tr th {\n",
       "        vertical-align: top;\n",
       "    }\n",
       "\n",
       "    .dataframe thead th {\n",
       "        text-align: right;\n",
       "    }\n",
       "</style>\n",
       "<table border=\"1\" class=\"dataframe\">\n",
       "  <thead>\n",
       "    <tr style=\"text-align: right;\">\n",
       "      <th></th>\n",
       "      <th>CIP13</th>\n",
       "      <th>name_medication</th>\n",
       "      <th>pharmaceutical_form</th>\n",
       "      <th>methods_of_administration</th>\n",
       "      <th>statut_amm</th>\n",
       "      <th>procedure_type_amm</th>\n",
       "      <th>commercialisation_state</th>\n",
       "      <th>date_AMM</th>\n",
       "      <th>owner</th>\n",
       "      <th>enhanced_surveillance</th>\n",
       "      <th>description_medication</th>\n",
       "      <th>date_declaration_commercialisation</th>\n",
       "      <th>reimbursement_rate_per_medication</th>\n",
       "      <th>price_medication</th>\n",
       "    </tr>\n",
       "  </thead>\n",
       "  <tbody>\n",
       "    <tr>\n",
       "      <th>0</th>\n",
       "      <td>3400949497294</td>\n",
       "      <td>anastrozole accord 1 mg, comprimï¿½ pelliculï¿½</td>\n",
       "      <td>comprimï¿½ pelliculï¿½</td>\n",
       "      <td>orale</td>\n",
       "      <td>autorisation active</td>\n",
       "      <td>procï¿½dure de reconnaissance mutuelle</td>\n",
       "      <td>commercialisï¿½e</td>\n",
       "      <td>2010-10-28</td>\n",
       "      <td>accord healthcare france</td>\n",
       "      <td>non</td>\n",
       "      <td>plaquette(s) pvc pvdc aluminium de 30 comprimé(s)</td>\n",
       "      <td>2011-03-16</td>\n",
       "      <td>100.0</td>\n",
       "      <td>30.36</td>\n",
       "    </tr>\n",
       "    <tr>\n",
       "      <th>1</th>\n",
       "      <td>3400949497706</td>\n",
       "      <td>anastrozole accord 1 mg, comprimï¿½ pelliculï¿½</td>\n",
       "      <td>comprimï¿½ pelliculï¿½</td>\n",
       "      <td>orale</td>\n",
       "      <td>autorisation active</td>\n",
       "      <td>procï¿½dure de reconnaissance mutuelle</td>\n",
       "      <td>commercialisï¿½e</td>\n",
       "      <td>2010-10-28</td>\n",
       "      <td>accord healthcare france</td>\n",
       "      <td>non</td>\n",
       "      <td>plaquette(s) pvc pvdc aluminium de 90 comprimé(s)</td>\n",
       "      <td>2011-09-19</td>\n",
       "      <td>100.0</td>\n",
       "      <td>85.74</td>\n",
       "    </tr>\n",
       "    <tr>\n",
       "      <th>2</th>\n",
       "      <td>3400936963504</td>\n",
       "      <td>beclospin 800 microgrammes/2ml suspension pour...</td>\n",
       "      <td>suspension pour inhalation par nï¿½buliseur</td>\n",
       "      <td>inhalï¿½e</td>\n",
       "      <td>autorisation active</td>\n",
       "      <td>procï¿½dure de reconnaissance mutuelle</td>\n",
       "      <td>commercialisï¿½e</td>\n",
       "      <td>2006-01-06</td>\n",
       "      <td>chiesi</td>\n",
       "      <td>non</td>\n",
       "      <td>20 récipient(s) unidose(s) polyéthylène de 2 m...</td>\n",
       "      <td>2006-11-30</td>\n",
       "      <td>65.0</td>\n",
       "      <td>16.77</td>\n",
       "    </tr>\n",
       "    <tr>\n",
       "      <th>3</th>\n",
       "      <td>3400936145825</td>\n",
       "      <td>fenofibrate teva 100 mg, gï¿½lule</td>\n",
       "      <td>gï¿½lule</td>\n",
       "      <td>orale</td>\n",
       "      <td>autorisation active</td>\n",
       "      <td>procï¿½dure nationale</td>\n",
       "      <td>commercialisï¿½e</td>\n",
       "      <td>1996-12-06</td>\n",
       "      <td>teva sante</td>\n",
       "      <td>non</td>\n",
       "      <td>plaquette(s) thermoformée(s) pvc aluminium de ...</td>\n",
       "      <td>2003-06-11</td>\n",
       "      <td>65.0</td>\n",
       "      <td>1.54</td>\n",
       "    </tr>\n",
       "    <tr>\n",
       "      <th>4</th>\n",
       "      <td>3400939725192</td>\n",
       "      <td>tramadol eg l.p. 200 mg, comprimï¿½ ï¿½ libï¿½...</td>\n",
       "      <td>comprimï¿½ ï¿½ libï¿½ration prolongï¿½e</td>\n",
       "      <td>orale</td>\n",
       "      <td>autorisation active</td>\n",
       "      <td>procï¿½dure nationale</td>\n",
       "      <td>commercialisï¿½e</td>\n",
       "      <td>2009-09-07</td>\n",
       "      <td>eg labo - laboratoires eurogenerics</td>\n",
       "      <td>non</td>\n",
       "      <td>plaquette(s) opaque(s) pvc-aluminium de 30 com...</td>\n",
       "      <td>2011-12-12</td>\n",
       "      <td>65.0</td>\n",
       "      <td>8.88</td>\n",
       "    </tr>\n",
       "  </tbody>\n",
       "</table>\n",
       "</div>"
      ],
      "text/plain": [
       "           CIP13                                    name_medication  \\\n",
       "0  3400949497294    anastrozole accord 1 mg, comprimï¿½ pelliculï¿½   \n",
       "1  3400949497706    anastrozole accord 1 mg, comprimï¿½ pelliculï¿½   \n",
       "2  3400936963504  beclospin 800 microgrammes/2ml suspension pour...   \n",
       "3  3400936145825                  fenofibrate teva 100 mg, gï¿½lule   \n",
       "4  3400939725192  tramadol eg l.p. 200 mg, comprimï¿½ ï¿½ libï¿½...   \n",
       "\n",
       "                           pharmaceutical_form methods_of_administration  \\\n",
       "0                       comprimï¿½ pelliculï¿½                     orale   \n",
       "1                       comprimï¿½ pelliculï¿½                     orale   \n",
       "2  suspension pour inhalation par nï¿½buliseur                 inhalï¿½e   \n",
       "3                                     gï¿½lule                     orale   \n",
       "4      comprimï¿½ ï¿½ libï¿½ration prolongï¿½e                     orale   \n",
       "\n",
       "            statut_amm                      procedure_type_amm  \\\n",
       "0  autorisation active  procï¿½dure de reconnaissance mutuelle   \n",
       "1  autorisation active  procï¿½dure de reconnaissance mutuelle   \n",
       "2  autorisation active  procï¿½dure de reconnaissance mutuelle   \n",
       "3  autorisation active                   procï¿½dure nationale   \n",
       "4  autorisation active                   procï¿½dure nationale   \n",
       "\n",
       "  commercialisation_state   date_AMM                                 owner  \\\n",
       "0        commercialisï¿½e 2010-10-28              accord healthcare france   \n",
       "1        commercialisï¿½e 2010-10-28              accord healthcare france   \n",
       "2        commercialisï¿½e 2006-01-06                                chiesi   \n",
       "3        commercialisï¿½e 1996-12-06                            teva sante   \n",
       "4        commercialisï¿½e 2009-09-07   eg labo - laboratoires eurogenerics   \n",
       "\n",
       "  enhanced_surveillance                             description_medication  \\\n",
       "0                   non  plaquette(s) pvc pvdc aluminium de 30 comprimé(s)   \n",
       "1                   non  plaquette(s) pvc pvdc aluminium de 90 comprimé(s)   \n",
       "2                   non  20 récipient(s) unidose(s) polyéthylène de 2 m...   \n",
       "3                   non  plaquette(s) thermoformée(s) pvc aluminium de ...   \n",
       "4                   non  plaquette(s) opaque(s) pvc-aluminium de 30 com...   \n",
       "\n",
       "  date_declaration_commercialisation  reimbursement_rate_per_medication  \\\n",
       "0                         2011-03-16                              100.0   \n",
       "1                         2011-09-19                              100.0   \n",
       "2                         2006-11-30                               65.0   \n",
       "3                         2003-06-11                               65.0   \n",
       "4                         2011-12-12                               65.0   \n",
       "\n",
       "   price_medication  \n",
       "0             30.36  \n",
       "1             85.74  \n",
       "2             16.77  \n",
       "3              1.54  \n",
       "4              8.88  "
      ]
     },
     "execution_count": 45,
     "metadata": {},
     "output_type": "execute_result"
    }
   ],
   "source": [
    "tables['medication_presentation'].head(n=5)"
   ]
  },
  {
   "cell_type": "code",
   "execution_count": 46,
   "metadata": {},
   "outputs": [],
   "source": [
    "import re\n",
    "\n",
    "def normalize_string(string_with_special_chars):\n",
    "    \"\"\"\n",
    "    Normalize a string by handling special characters and removing non-alphanumeric characters.\n",
    "\n",
    "    Parameters:\n",
    "    - string_with_special_chars (str): Input string containing special characters.\n",
    "\n",
    "    Returns:\n",
    "    - str: Normalized string with special characters removed.\n",
    "    \"\"\"\n",
    "    if isinstance(string_with_special_chars,str):\n",
    "        # Normalize the string by ignoring errors during encoding\n",
    "        normalized_string = string_with_special_chars.encode('utf-8', errors='ignore').decode('utf-8')\n",
    "\n",
    "        # Split the string into words\n",
    "        words = normalized_string.split()\n",
    "\n",
    "        # Remove non-alphanumeric characters from words\n",
    "        cleaned_words = [re.sub(r'[^a-zA-Z0-9]', '', word) for word in words]\n",
    "\n",
    "        # Join the cleaned words back into a single string\n",
    "        cleaned_string = ' '.join(cleaned_words)\n",
    "    else: \n",
    "        return '0'\n",
    "\n",
    "    return cleaned_string\n"
   ]
  },
  {
   "cell_type": "code",
   "execution_count": 47,
   "metadata": {},
   "outputs": [
    {
     "name": "stdout",
     "output_type": "stream",
     "text": [
      "Normalizing values in the name_medication column\n",
      "Normalizing values in the pharmaceutical_form column\n",
      "Normalizing values in the methods_of_administration column\n",
      "Normalizing values in the statut_amm column\n",
      "Normalizing values in the procedure_type_amm column\n",
      "Normalizing values in the commercialisation_state column\n",
      "Normalizing values in the owner column\n",
      "Normalizing values in the enhanced_surveillance column\n",
      "Normalizing values in the description_medication column\n"
     ]
    }
   ],
   "source": [
    "# Apply the normalize_string function to each column containing strings with special characters\n",
    "\n",
    "object_columns = tables['medication_presentation'].select_dtypes(include=['object'])\n",
    "\n",
    "for column in object_columns:\n",
    "    print(f\"Normalizing values in the {column} column\")\n",
    "    tables['medication_presentation'][column] = tables['medication_presentation'][column].apply(normalize_string)\n"
   ]
  },
  {
   "cell_type": "code",
   "execution_count": 48,
   "metadata": {},
   "outputs": [
    {
     "data": {
      "text/html": [
       "<div>\n",
       "<style scoped>\n",
       "    .dataframe tbody tr th:only-of-type {\n",
       "        vertical-align: middle;\n",
       "    }\n",
       "\n",
       "    .dataframe tbody tr th {\n",
       "        vertical-align: top;\n",
       "    }\n",
       "\n",
       "    .dataframe thead th {\n",
       "        text-align: right;\n",
       "    }\n",
       "</style>\n",
       "<table border=\"1\" class=\"dataframe\">\n",
       "  <thead>\n",
       "    <tr style=\"text-align: right;\">\n",
       "      <th></th>\n",
       "      <th>CIP13</th>\n",
       "      <th>name_medication</th>\n",
       "      <th>pharmaceutical_form</th>\n",
       "      <th>methods_of_administration</th>\n",
       "      <th>statut_amm</th>\n",
       "      <th>procedure_type_amm</th>\n",
       "      <th>commercialisation_state</th>\n",
       "      <th>date_AMM</th>\n",
       "      <th>owner</th>\n",
       "      <th>enhanced_surveillance</th>\n",
       "      <th>description_medication</th>\n",
       "      <th>date_declaration_commercialisation</th>\n",
       "      <th>reimbursement_rate_per_medication</th>\n",
       "      <th>price_medication</th>\n",
       "    </tr>\n",
       "  </thead>\n",
       "  <tbody>\n",
       "    <tr>\n",
       "      <th>0</th>\n",
       "      <td>3400949497294</td>\n",
       "      <td>anastrozole accord 1 mg comprim pellicul</td>\n",
       "      <td>comprim pellicul</td>\n",
       "      <td>orale</td>\n",
       "      <td>autorisation active</td>\n",
       "      <td>procdure de reconnaissance mutuelle</td>\n",
       "      <td>commercialise</td>\n",
       "      <td>2010-10-28</td>\n",
       "      <td>accord healthcare france</td>\n",
       "      <td>non</td>\n",
       "      <td>plaquettes pvc pvdc aluminium de 30 comprims</td>\n",
       "      <td>2011-03-16</td>\n",
       "      <td>100.0</td>\n",
       "      <td>30.36</td>\n",
       "    </tr>\n",
       "    <tr>\n",
       "      <th>1</th>\n",
       "      <td>3400949497706</td>\n",
       "      <td>anastrozole accord 1 mg comprim pellicul</td>\n",
       "      <td>comprim pellicul</td>\n",
       "      <td>orale</td>\n",
       "      <td>autorisation active</td>\n",
       "      <td>procdure de reconnaissance mutuelle</td>\n",
       "      <td>commercialise</td>\n",
       "      <td>2010-10-28</td>\n",
       "      <td>accord healthcare france</td>\n",
       "      <td>non</td>\n",
       "      <td>plaquettes pvc pvdc aluminium de 90 comprims</td>\n",
       "      <td>2011-09-19</td>\n",
       "      <td>100.0</td>\n",
       "      <td>85.74</td>\n",
       "    </tr>\n",
       "    <tr>\n",
       "      <th>2</th>\n",
       "      <td>3400936963504</td>\n",
       "      <td>beclospin 800 microgrammes2ml suspension pour ...</td>\n",
       "      <td>suspension pour inhalation par nbuliseur</td>\n",
       "      <td>inhale</td>\n",
       "      <td>autorisation active</td>\n",
       "      <td>procdure de reconnaissance mutuelle</td>\n",
       "      <td>commercialise</td>\n",
       "      <td>2006-01-06</td>\n",
       "      <td>chiesi</td>\n",
       "      <td>non</td>\n",
       "      <td>20 rcipients unidoses polythylne de 2 ml surem...</td>\n",
       "      <td>2006-11-30</td>\n",
       "      <td>65.0</td>\n",
       "      <td>16.77</td>\n",
       "    </tr>\n",
       "    <tr>\n",
       "      <th>3</th>\n",
       "      <td>3400936145825</td>\n",
       "      <td>fenofibrate teva 100 mg glule</td>\n",
       "      <td>glule</td>\n",
       "      <td>orale</td>\n",
       "      <td>autorisation active</td>\n",
       "      <td>procdure nationale</td>\n",
       "      <td>commercialise</td>\n",
       "      <td>1996-12-06</td>\n",
       "      <td>teva sante</td>\n",
       "      <td>non</td>\n",
       "      <td>plaquettes thermoformes pvc aluminium de 30 gl...</td>\n",
       "      <td>2003-06-11</td>\n",
       "      <td>65.0</td>\n",
       "      <td>1.54</td>\n",
       "    </tr>\n",
       "    <tr>\n",
       "      <th>4</th>\n",
       "      <td>3400939725192</td>\n",
       "      <td>tramadol eg lp 200 mg comprim  libration prolonge</td>\n",
       "      <td>comprim  libration prolonge</td>\n",
       "      <td>orale</td>\n",
       "      <td>autorisation active</td>\n",
       "      <td>procdure nationale</td>\n",
       "      <td>commercialise</td>\n",
       "      <td>2009-09-07</td>\n",
       "      <td>eg labo  laboratoires eurogenerics</td>\n",
       "      <td>non</td>\n",
       "      <td>plaquettes opaques pvcaluminium de 30 comprims</td>\n",
       "      <td>2011-12-12</td>\n",
       "      <td>65.0</td>\n",
       "      <td>8.88</td>\n",
       "    </tr>\n",
       "  </tbody>\n",
       "</table>\n",
       "</div>"
      ],
      "text/plain": [
       "           CIP13                                    name_medication  \\\n",
       "0  3400949497294           anastrozole accord 1 mg comprim pellicul   \n",
       "1  3400949497706           anastrozole accord 1 mg comprim pellicul   \n",
       "2  3400936963504  beclospin 800 microgrammes2ml suspension pour ...   \n",
       "3  3400936145825                      fenofibrate teva 100 mg glule   \n",
       "4  3400939725192  tramadol eg lp 200 mg comprim  libration prolonge   \n",
       "\n",
       "                        pharmaceutical_form methods_of_administration  \\\n",
       "0                          comprim pellicul                     orale   \n",
       "1                          comprim pellicul                     orale   \n",
       "2  suspension pour inhalation par nbuliseur                    inhale   \n",
       "3                                     glule                     orale   \n",
       "4               comprim  libration prolonge                     orale   \n",
       "\n",
       "            statut_amm                   procedure_type_amm  \\\n",
       "0  autorisation active  procdure de reconnaissance mutuelle   \n",
       "1  autorisation active  procdure de reconnaissance mutuelle   \n",
       "2  autorisation active  procdure de reconnaissance mutuelle   \n",
       "3  autorisation active                   procdure nationale   \n",
       "4  autorisation active                   procdure nationale   \n",
       "\n",
       "  commercialisation_state   date_AMM                               owner  \\\n",
       "0           commercialise 2010-10-28            accord healthcare france   \n",
       "1           commercialise 2010-10-28            accord healthcare france   \n",
       "2           commercialise 2006-01-06                              chiesi   \n",
       "3           commercialise 1996-12-06                          teva sante   \n",
       "4           commercialise 2009-09-07  eg labo  laboratoires eurogenerics   \n",
       "\n",
       "  enhanced_surveillance                             description_medication  \\\n",
       "0                   non       plaquettes pvc pvdc aluminium de 30 comprims   \n",
       "1                   non       plaquettes pvc pvdc aluminium de 90 comprims   \n",
       "2                   non  20 rcipients unidoses polythylne de 2 ml surem...   \n",
       "3                   non  plaquettes thermoformes pvc aluminium de 30 gl...   \n",
       "4                   non     plaquettes opaques pvcaluminium de 30 comprims   \n",
       "\n",
       "  date_declaration_commercialisation  reimbursement_rate_per_medication  \\\n",
       "0                         2011-03-16                              100.0   \n",
       "1                         2011-09-19                              100.0   \n",
       "2                         2006-11-30                               65.0   \n",
       "3                         2003-06-11                               65.0   \n",
       "4                         2011-12-12                               65.0   \n",
       "\n",
       "   price_medication  \n",
       "0             30.36  \n",
       "1             85.74  \n",
       "2             16.77  \n",
       "3              1.54  \n",
       "4              8.88  "
      ]
     },
     "execution_count": 48,
     "metadata": {},
     "output_type": "execute_result"
    }
   ],
   "source": [
    "tables['medication_presentation'].head(n=5)"
   ]
  },
  {
   "cell_type": "markdown",
   "metadata": {},
   "source": [
    "We have set our date in datetime format, our string are lowercased and encoded as utf-8 and our int and float are set also."
   ]
  },
  {
   "cell_type": "markdown",
   "metadata": {},
   "source": [
    "#### `global_expenses`\n"
   ]
  },
  {
   "cell_type": "code",
   "execution_count": 49,
   "metadata": {},
   "outputs": [
    {
     "name": "stdout",
     "output_type": "stream",
     "text": [
      "<class 'pandas.core.frame.DataFrame'>\n",
      "RangeIndex: 12174 entries, 0 to 12173\n",
      "Data columns (total 6 columns):\n",
      " #   Column                    Non-Null Count  Dtype  \n",
      "---  ------                    --------------  -----  \n",
      " 0   CIP13                     12174 non-null  int64  \n",
      " 1   reimbursement_base_2022   12174 non-null  float64\n",
      " 2   nb_boxes_reimbursed_2022  12174 non-null  int64  \n",
      " 3   reimbursed_amount_2022    12174 non-null  float64\n",
      " 4   name_medication           12174 non-null  object \n",
      " 5   global_expenses_id        12174 non-null  int64  \n",
      "dtypes: float64(2), int64(3), object(1)\n",
      "memory usage: 570.8+ KB\n",
      "None\n"
     ]
    }
   ],
   "source": [
    "print(tables['global_expenses'].info())"
   ]
  },
  {
   "cell_type": "code",
   "execution_count": 50,
   "metadata": {},
   "outputs": [
    {
     "data": {
      "text/html": [
       "<div>\n",
       "<style scoped>\n",
       "    .dataframe tbody tr th:only-of-type {\n",
       "        vertical-align: middle;\n",
       "    }\n",
       "\n",
       "    .dataframe tbody tr th {\n",
       "        vertical-align: top;\n",
       "    }\n",
       "\n",
       "    .dataframe thead th {\n",
       "        text-align: right;\n",
       "    }\n",
       "</style>\n",
       "<table border=\"1\" class=\"dataframe\">\n",
       "  <thead>\n",
       "    <tr style=\"text-align: right;\">\n",
       "      <th></th>\n",
       "      <th>CIP13</th>\n",
       "      <th>reimbursement_base_2022</th>\n",
       "      <th>nb_boxes_reimbursed_2022</th>\n",
       "      <th>reimbursed_amount_2022</th>\n",
       "      <th>name_medication</th>\n",
       "      <th>global_expenses_id</th>\n",
       "    </tr>\n",
       "  </thead>\n",
       "  <tbody>\n",
       "    <tr>\n",
       "      <th>0</th>\n",
       "      <td>3400921604696</td>\n",
       "      <td>353956.43</td>\n",
       "      <td>96127</td>\n",
       "      <td>2.450826e+05</td>\n",
       "      <td>yellox 0,9 mg/ml, collyre en solution</td>\n",
       "      <td>0</td>\n",
       "    </tr>\n",
       "    <tr>\n",
       "      <th>1</th>\n",
       "      <td>3400921609080</td>\n",
       "      <td>16032399.34</td>\n",
       "      <td>25220</td>\n",
       "      <td>1.588837e+07</td>\n",
       "      <td>avonex 30 microgrammes/0,5 ml, solution inject...</td>\n",
       "      <td>1</td>\n",
       "    </tr>\n",
       "    <tr>\n",
       "      <th>2</th>\n",
       "      <td>3400921610550</td>\n",
       "      <td>55389.28</td>\n",
       "      <td>20437</td>\n",
       "      <td>9.807795e+03</td>\n",
       "      <td>polygynax virgo, capsule vaginale</td>\n",
       "      <td>2</td>\n",
       "    </tr>\n",
       "    <tr>\n",
       "      <th>3</th>\n",
       "      <td>3400921610840</td>\n",
       "      <td>160428.96</td>\n",
       "      <td>26086</td>\n",
       "      <td>1.573739e+05</td>\n",
       "      <td>nicorandil sandoz 20 mg, comprimï¿½</td>\n",
       "      <td>3</td>\n",
       "    </tr>\n",
       "    <tr>\n",
       "      <th>4</th>\n",
       "      <td>3400921611731</td>\n",
       "      <td>306520.92</td>\n",
       "      <td>89626</td>\n",
       "      <td>2.974557e+05</td>\n",
       "      <td>nicorandil sandoz 10 mg, comprimï¿½ sï¿½cable</td>\n",
       "      <td>4</td>\n",
       "    </tr>\n",
       "  </tbody>\n",
       "</table>\n",
       "</div>"
      ],
      "text/plain": [
       "           CIP13  reimbursement_base_2022  nb_boxes_reimbursed_2022  \\\n",
       "0  3400921604696                353956.43                     96127   \n",
       "1  3400921609080              16032399.34                     25220   \n",
       "2  3400921610550                 55389.28                     20437   \n",
       "3  3400921610840                160428.96                     26086   \n",
       "4  3400921611731                306520.92                     89626   \n",
       "\n",
       "   reimbursed_amount_2022                                    name_medication  \\\n",
       "0            2.450826e+05              yellox 0,9 mg/ml, collyre en solution   \n",
       "1            1.588837e+07  avonex 30 microgrammes/0,5 ml, solution inject...   \n",
       "2            9.807795e+03                  polygynax virgo, capsule vaginale   \n",
       "3            1.573739e+05                nicorandil sandoz 20 mg, comprimï¿½   \n",
       "4            2.974557e+05      nicorandil sandoz 10 mg, comprimï¿½ sï¿½cable   \n",
       "\n",
       "   global_expenses_id  \n",
       "0                   0  \n",
       "1                   1  \n",
       "2                   2  \n",
       "3                   3  \n",
       "4                   4  "
      ]
     },
     "execution_count": 50,
     "metadata": {},
     "output_type": "execute_result"
    }
   ],
   "source": [
    "tables['global_expenses'].head(n=5)"
   ]
  },
  {
   "cell_type": "code",
   "execution_count": 51,
   "metadata": {},
   "outputs": [
    {
     "name": "stdout",
     "output_type": "stream",
     "text": [
      "Normalizing values in the name_medication column\n"
     ]
    }
   ],
   "source": [
    "# Apply the normalize_string function to each column containing strings with special characters\n",
    "\n",
    "object_columns = tables['global_expenses'].select_dtypes(include=['object'])\n",
    "\n",
    "for column in object_columns:\n",
    "    print(f\"Normalizing values in the {column} column\")\n",
    "    tables['global_expenses'][column] = tables['global_expenses'][column].apply(normalize_string)"
   ]
  },
  {
   "cell_type": "markdown",
   "metadata": {},
   "source": [
    "We normalize our str instances."
   ]
  },
  {
   "cell_type": "markdown",
   "metadata": {},
   "source": [
    "#### `generic_group`"
   ]
  },
  {
   "cell_type": "code",
   "execution_count": 52,
   "metadata": {},
   "outputs": [
    {
     "name": "stdout",
     "output_type": "stream",
     "text": [
      "<class 'pandas.core.frame.DataFrame'>\n",
      "RangeIndex: 12174 entries, 0 to 12173\n",
      "Data columns (total 4 columns):\n",
      " #   Column            Non-Null Count  Dtype\n",
      "---  ------            --------------  -----\n",
      " 0   CIP13             12174 non-null  int64\n",
      " 1   GEN_NUM           12174 non-null  int64\n",
      " 2   TOP_GEN           12174 non-null  int64\n",
      " 3   generic_group_id  12174 non-null  int64\n",
      "dtypes: int64(4)\n",
      "memory usage: 380.6 KB\n",
      "None\n"
     ]
    }
   ],
   "source": [
    "print(tables['generic_group'].info())"
   ]
  },
  {
   "cell_type": "markdown",
   "metadata": {},
   "source": [
    "Nothing to change for this table."
   ]
  },
  {
   "cell_type": "markdown",
   "metadata": {},
   "source": [
    "# Add our tables into our database"
   ]
  },
  {
   "cell_type": "markdown",
   "metadata": {},
   "source": [
    "We created a postgres database hosted on AWS server. We will first connect to it and then "
   ]
  },
  {
   "cell_type": "code",
   "execution_count": 68,
   "metadata": {},
   "outputs": [
    {
     "name": "stdout",
     "output_type": "stream",
     "text": [
      "Connetected to RDS\n"
     ]
    }
   ],
   "source": [
    "import psycopg2\n",
    "import sys\n",
    "import boto3\n",
    "import os\n",
    "\n",
    "ENDPOINT=\"database-1.c3gcywo2moej.eu-north-1.rds.amazonaws.com\"\n",
    "PORT=\"5432\"\n",
    "USER=\"postgres\"\n",
    "REGION=\"eu-north-1c\"\n",
    "DBNAME=\"Data_test\"\n",
    "PASSWORD = 'motdepasse'\n",
    "\n",
    "\n",
    "conn_string = \"host=\"+ ENDPOINT +\" port=\"+ PORT +\" user=\" + USER +\" password=\" + PASSWORD\n",
    "\n",
    "try:\n",
    "    conn = psycopg2.connect(conn_string)\n",
    "    cur = conn.cursor()\n",
    "    # cur.execute(\"\"\"SELECT now()\"\"\")\n",
    "    # query_results = cur.fetchall()\n",
    "    print(\"Connetected to RDS\")\n",
    "except Exception as e:\n",
    "    print(\"Database connection failed due to {}\".format(e))   "
   ]
  },
  {
   "cell_type": "markdown",
   "metadata": {},
   "source": []
  },
  {
   "cell_type": "code",
   "execution_count": 69,
   "metadata": {},
   "outputs": [],
   "source": [
    "from sqlalchemy import create_engine\n",
    "\n",
    "# Assuming your DataFrame is named 'df' and the table is 'client'\n",
    "\n",
    "\n",
    "# Replace 'your_database_url' with the actual connection string for your PostgreSQL database\n",
    "database_url = 'postgresql://'+ USER +':' + PASSWORD + '@' + ENDPOINT +':' + PORT + '/' + DBNAME\n",
    "engine = create_engine(database_url)\n"
   ]
  },
  {
   "cell_type": "markdown",
   "metadata": {},
   "source": [
    "tables = {\n",
    "    'beneficiary': beneficiary,\n",
    "    'medication_specialisation': medication_specialisation,\n",
    "    'medication_presentation': medication_presentation,\n",
    "    'global_expenses': global_expenses,\n",
    "    'generic_group': generic_group\n",
    "}"
   ]
  },
  {
   "cell_type": "code",
   "execution_count": 71,
   "metadata": {},
   "outputs": [
    {
     "name": "stdout",
     "output_type": "stream",
     "text": [
      "Memory usage of DataFrame beneficiary: 57.17 MB\n",
      "Memory usage of DataFrame medication_specialisation: 1378.82 MB\n",
      "Memory usage of DataFrame medication_presentation: 8.72 MB\n",
      "Memory usage of DataFrame global_expenses: 1.66 MB\n",
      "Memory usage of DataFrame generic_group: 0.37 MB\n"
     ]
    }
   ],
   "source": [
    "import pandas as pd\n",
    "\n",
    "for name,table in tables.items():\n",
    "        \n",
    "    # Assuming you have a DataFrame called 'df' with your data\n",
    "    # Calculate memory usage of the DataFrame in bytes\n",
    "    memory_usage_bytes = table.memory_usage(deep=True).sum()\n",
    "\n",
    "    # Convert bytes to megabytes (optional)\n",
    "    memory_usage_megabytes = memory_usage_bytes / (1024**2)\n",
    "\n",
    "    print(\"Memory usage of DataFrame {}: {:.2f} MB\".format(name,memory_usage_megabytes))\n"
   ]
  },
  {
   "cell_type": "code",
   "execution_count": 77,
   "metadata": {},
   "outputs": [
    {
     "name": "stdout",
     "output_type": "stream",
     "text": [
      "CPU times: user 27.3 s, sys: 1.24 s, total: 28.5 s\n",
      "Wall time: 2min 35s\n",
      "CPU times: user 1min 6s, sys: 12.8 s, total: 1min 19s\n",
      "Wall time: 5min 43s\n",
      "CPU times: user 648 ms, sys: 44.4 ms, total: 693 ms\n",
      "Wall time: 2.85 s\n",
      "CPU times: user 310 ms, sys: 14.1 ms, total: 324 ms\n",
      "Wall time: 1.79 s\n",
      "CPU times: user 276 ms, sys: 35.3 ms, total: 311 ms\n",
      "Wall time: 2.2 s\n"
     ]
    }
   ],
   "source": [
    "import pandas as pd\n",
    "from sqlalchemy import create_engine\n",
    "\n",
    "for name,table in tables.items():\n",
    "    # Convert the DataFrame to SQL table with specified data types\n",
    "    %time table.to_sql(name, engine, if_exists='replace', index=False)\n"
   ]
  },
  {
   "cell_type": "code",
   "execution_count": 81,
   "metadata": {},
   "outputs": [
    {
     "name": "stdout",
     "output_type": "stream",
     "text": [
      "schema: information_schema\n",
      "table: sql_features\n",
      "table: sql_implementation_info\n",
      "table: sql_parts\n",
      "table: sql_sizing\n",
      "schema: public\n",
      "table: prescriptor\n",
      "table: client\n",
      "table: test\n",
      "table: medicament\n",
      "table: beneficiary\n",
      "table: medication_specialisation\n",
      "table: medication_presentation\n",
      "table: global_expenses\n",
      "table: generic_group\n"
     ]
    }
   ],
   "source": [
    "from sqlalchemy import inspect\n",
    "inspector = inspect(engine)\n",
    "schemas = inspector.get_schema_names()\n",
    "\n",
    "for schema in schemas:\n",
    "    print(\"schema: %s\" % schema)\n",
    "    for table_name in inspector.get_table_names(schema=schema):\n",
    "        print(\"table: %s\" % table_name)\n"
   ]
  }
 ],
 "metadata": {
  "kernelspec": {
   "display_name": "aibt_venv",
   "language": "python",
   "name": "python3"
  },
  "language_info": {
   "codemirror_mode": {
    "name": "ipython",
    "version": 3
   },
   "file_extension": ".py",
   "mimetype": "text/x-python",
   "name": "python",
   "nbconvert_exporter": "python",
   "pygments_lexer": "ipython3",
   "version": "3.9.18"
  }
 },
 "nbformat": 4,
 "nbformat_minor": 2
}
